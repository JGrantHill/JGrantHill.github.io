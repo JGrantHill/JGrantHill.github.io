{
 "cells": [
  {
   "cell_type": "markdown",
   "id": "9ad92f73-8a6e-4a5c-9629-5ccf5c5a85a7",
   "metadata": {},
   "source": [
    "# A First Foray into Data Scraping\n",
    "\n",
    "In this Chapter we're going to have a look at how to scrape information from a website, before loading it into a dataframe and doing some minor processing. The main aims are:\n",
    "- Analyse the HTML data to determine which parts you need.\n",
    "- Scrape the information you want into the Python list data-type.\n",
    "- Collect the lists together into a Pandas dataframe.\n",
    "- Carry out any processing of the data."
   ]
  },
  {
   "attachments": {},
   "cell_type": "markdown",
   "id": "7e0a113d-e57b-4fa8-bc44-d96fa2bef398",
   "metadata": {},
   "source": [
    "## Scraping Player Assist and Turnover Data from BritHoops\n",
    "\n",
    "As our first exercise, we will aim to scrape player assist and turnover data from the [Brithoops website](https://brithoops.com/index.php). Note that this data will be updated as more games are played, so if you run this code yourself you are likely to see somewhat different results.\n",
    "\n",
    "Handily, BritHoops already has a [page that lists player assist and turnover data](https://brithoops.com/bbl-player-stats/assists-turnovers.php), so we will use that as part of this learning exercise. In a web browser, the BritHoops page looks like this:\n",
    "\n",
    "![BH-assists-sshot.png](./img/BH-assists-sshot.png)\n",
    "\n",
    "Let's see what we can do to scrape some of the data. First thing we need to do is import the necessary Python modules and libraries."
   ]
  },
  {
   "cell_type": "code",
   "execution_count": 1,
   "id": "b485e9f3-812a-4d78-92a7-76944d92d206",
   "metadata": {},
   "outputs": [],
   "source": [
    "import requests\n",
    "from bs4 import BeautifulSoup\n",
    "import pandas as pd\n",
    "import numpy as np"
   ]
  },
  {
   "cell_type": "markdown",
   "id": "39bab9d2-75f3-4d6e-9041-9a34c81e30f1",
   "metadata": {},
   "source": [
    "We will then use requests and BeautifulSoup to grab the HTML source for the page we are interested in."
   ]
  },
  {
   "cell_type": "code",
   "execution_count": 2,
   "id": "6fdea16f-7b34-45bf-81af-46bcf51c74bb",
   "metadata": {},
   "outputs": [],
   "source": [
    "brit_hoops_url = \"https://brithoops.com/bbl-player-stats/assists-turnovers.php\"\n",
    "page = requests.get(brit_hoops_url)\n",
    "soup = BeautifulSoup(page.content)"
   ]
  },
  {
   "cell_type": "markdown",
   "id": "7a45cea4-0204-46e8-806e-ad095fec42b4",
   "metadata": {},
   "source": [
    "You may find it useful to take that \"soup\", save it as a HTML file, and open it in a text editor. The next piece of code saves a file called *example-soup.html*. "
   ]
  },
  {
   "cell_type": "code",
   "execution_count": 3,
   "id": "b07d0697-544d-4986-9d59-37edc302f2e2",
   "metadata": {},
   "outputs": [],
   "source": [
    "html = soup.prettify(\"utf-8\")\n",
    "with open(\"example-soup.html\", \"wb\") as file:\n",
    "    file.write(html)"
   ]
  },
  {
   "attachments": {},
   "cell_type": "markdown",
   "id": "46e3c613-c5b7-46f0-8d53-4ef4b1496d4c",
   "metadata": {},
   "source": [
    "Looking at the HTML, the first thing you will probably notice is that there is a lot of it! Much of this is the functionality required for menus etc. Scroll down a bit further and you should find the actual data we are looking for. You could also use the search/find functionality in your text editor to look for one of the key terms we can see on the website, such as \"AP40\" (which is the number of assists per 40 minutes). In my text editor, this looked like:\n",
    "\n",
    "![BH-html.png](./img/BH-html.png)\n",
    "\n",
    "This reveals that the information we want is saved in a HTML table. We can use Beautiful Soup to extract only tables from the HTML."
   ]
  },
  {
   "cell_type": "code",
   "execution_count": 4,
   "id": "6bed5d6a-ff43-40c0-8ab5-a61168e13890",
   "metadata": {},
   "outputs": [],
   "source": [
    "tables = soup.find_all('table')"
   ]
  },
  {
   "cell_type": "markdown",
   "id": "faf4990d-c919-4fc3-9a9c-d214488eb449",
   "metadata": {},
   "source": [
    "It's possible the webpage contained more than one table, so we can check the length of the Python object to see how many tables were found."
   ]
  },
  {
   "cell_type": "code",
   "execution_count": 5,
   "id": "81051f99-3b54-4218-8420-1c90ee67ff12",
   "metadata": {},
   "outputs": [
    {
     "data": {
      "text/plain": [
       "1"
      ]
     },
     "execution_count": 5,
     "metadata": {},
     "output_type": "execute_result"
    }
   ],
   "source": [
    "len(tables)"
   ]
  },
  {
   "cell_type": "markdown",
   "id": "17b0e3a7-645a-44f6-a123-9caf3c5d1039",
   "metadata": {},
   "source": [
    "Good news! It looks like there was only one table this time. If there were multiple tables they would be returned a list, with each table being a separate list element.\n",
    "\n",
    "Before we move on, a very quick primer on [tables in HTML](https://www.w3schools.com/html/html_tables.asp). Tables are made up of rows, which are \\<tr\\> in HTML. Each element in a table row is in \\<td\\> tags (td for table data). It's those pieces of table data that we would like to scrape out.\n",
    "\n",
    "Let's unpack the table data into row form, by making a new list. Each element in that list will correspond to a row in the table."
   ]
  },
  {
   "cell_type": "code",
   "execution_count": 6,
   "id": "d347cd49-91be-4549-8d27-bd24055bc494",
   "metadata": {},
   "outputs": [],
   "source": [
    "rows = tables[0].find_all('tr')"
   ]
  },
  {
   "cell_type": "markdown",
   "id": "c22e8f62-2f89-4df6-866d-f8d97821a042",
   "metadata": {},
   "source": [
    "From looking at the HTML, I know that the first row is the table header, and the first player will be on the second row of the table. Recalling that Python starts its indexing at 0 (rather than 1), we can take a peek at that first player row to make sure we're getting the correct information."
   ]
  },
  {
   "cell_type": "code",
   "execution_count": 7,
   "id": "9374dac8-17c5-44cb-a4b4-3a652a8c1dee",
   "metadata": {},
   "outputs": [
    {
     "data": {
      "text/plain": [
       "<tr>\n",
       "<td class=\"nm\"><a class=\"pl-profile\" href=\"/bbl-player-stats/profile.php?id=1197\">Prentiss Nixon</a></td>\n",
       "<td>SHE</td>\n",
       "<td>4</td>\n",
       "<td>126</td>\n",
       "<td>31.50</td>\n",
       "<td>26</td>\n",
       "<td>6.50</td>\n",
       "<td>8.26</td>\n",
       "<td>42.07</td>\n",
       "<td>10</td>\n",
       "<td>2.50</td>\n",
       "<td>3.18</td>\n",
       "<td>12.46</td>\n",
       "<td>2.60</td>\n",
       "</tr>"
      ]
     },
     "execution_count": 7,
     "metadata": {},
     "output_type": "execute_result"
    }
   ],
   "source": [
    "rows[1]"
   ]
  },
  {
   "cell_type": "markdown",
   "id": "3ffe943c-092c-4f83-9188-d48eecd60399",
   "metadata": {},
   "source": [
    "Success! We've found Prentiss Nixon's data within the table. Our next task is to extract this information and get it into a Pandas dataframe."
   ]
  },
  {
   "cell_type": "markdown",
   "id": "7de3d51a-6abf-41c0-9d5d-d25f04c3f943",
   "metadata": {},
   "source": [
    "## Converting HTML Rows into a Pandas Dataframe\n",
    "\n",
    "Now that we have the HTML data we need as a list of rows, we need to extract it and eventually turn it into a Pandas dataframe. The general overview of what we will do is:\n",
    "1. Intialise empty Python lists for each player stat that we want to scrape.\n",
    "2. Loop over every row in the table (apart from the header row).\n",
    "3. For each row, find the data we want, and put it in to the correct list we made in 1.\n",
    "4. Combine the lists together into a Pandas dataframe."
   ]
  },
  {
   "cell_type": "markdown",
   "id": "a8632253-2bed-4e75-aa5f-7c64bd0c459f",
   "metadata": {},
   "source": [
    "### Intialising empty lists for the stats we want\n",
    "\n",
    "The HTML table from BritHoops contains quite a lot of data on assists and turnovers. While we could grab every item, here I will show how we extract only a subset of the stats. We are going to extract:\n",
    "- Player name\n",
    "- Team\n",
    "- Games played (G)\n",
    "- Assists per game (APG)\n",
    "- Assists per 40 minutes (AP40)\n",
    "- Turnovers per game (TOPG)\n",
    "- Turnovers per 40 minutes (TOP40)\n",
    "\n",
    "Creating the empty lists is easy \\- thinking of the names for them is probably the hardest part."
   ]
  },
  {
   "cell_type": "code",
   "execution_count": 8,
   "id": "a55bac2d-68ba-4503-b069-a22163f03b33",
   "metadata": {},
   "outputs": [],
   "source": [
    "name = []\n",
    "team = []\n",
    "games = []\n",
    "apg = []\n",
    "ap40 = []\n",
    "topg = []\n",
    "top40 = []"
   ]
  },
  {
   "cell_type": "markdown",
   "id": "07a0845b-fe2f-4336-a444-27c0c1591dd6",
   "metadata": {},
   "source": [
    "### Loop over HTML table rows and put the data into the lists\n",
    "\n",
    "Inspecting the data on BritHoops (either using the image above or loading the page in a web browser), we can see that the player name is in the first column (0 Python index), the team name is in the second (1), games played is in the third (2), APG is in the seventh (6), AP40 is in the eighth (7), TOPG is in the 11th (10), and TOP40 is in the 12th (11).\n",
    "\n",
    "By using a loop, we can work through each row and \"append\" the data in the columns we want to the appropriate list. To do that, we also need to extract all of the \"table data\" into a list I'm going to call \"cells\". We skip the first row as we know it contains the table headers, rather than the data we want."
   ]
  },
  {
   "cell_type": "code",
   "execution_count": 9,
   "id": "85bb5833-e882-40f8-a46a-63573091c246",
   "metadata": {},
   "outputs": [],
   "source": [
    "for row in rows[1:]:\n",
    "    cells = row.find_all('td')\n",
    "    # The name is held within HTML <a> link tags, hence we used Beautiful Soup to extract only the text part that we want\n",
    "    name.append(cells[0].find_all('a')[0].get_text())\n",
    "    team.append(cells[1].get_text())\n",
    "    games.append(cells[2].get_text())\n",
    "    apg.append(cells[6].get_text())\n",
    "    ap40.append(cells[7].get_text())\n",
    "    topg.append(cells[10].get_text())\n",
    "    top40.append(cells[11].get_text())"
   ]
  },
  {
   "cell_type": "markdown",
   "id": "00dc3845-6c45-44bd-8846-db56a66e2efc",
   "metadata": {},
   "source": [
    "Let's see how long the name list is, this will tell us how much data we have extracted (how many players data there is)."
   ]
  },
  {
   "cell_type": "code",
   "execution_count": 10,
   "id": "bde734e2-c528-4045-9b1c-24af9ee03005",
   "metadata": {},
   "outputs": [
    {
     "data": {
      "text/plain": [
       "98"
      ]
     },
     "execution_count": 10,
     "metadata": {},
     "output_type": "execute_result"
    }
   ],
   "source": [
    "len(name)"
   ]
  },
  {
   "cell_type": "markdown",
   "id": "0d08f535-0359-40db-b56f-8ab24872f184",
   "metadata": {},
   "source": [
    "It looks like we have the data for 98 players, but BritHoops only displayed 10. What's happening here?\n",
    "\n",
    "It turns out that the BritHoops website contains data for all of the players in the SLB, but only displays the top 10 in a web browser. You can then load the next 10 (and so on) using the controls under the table when using a web browser."
   ]
  },
  {
   "cell_type": "markdown",
   "id": "a78c4f0c-4239-4eaa-8281-564fee9a7530",
   "metadata": {},
   "source": [
    "### Combine the lists into a Pandas dataframe\n",
    "\n",
    "Using Pandas, with a little bit of numpy, we can easily squash all of the lists together into something that looks like a spreadsheet, known as a dataframe. It's very common for a dataframe to be referred to as df. We set the df column names as we do this."
   ]
  },
  {
   "cell_type": "code",
   "execution_count": 11,
   "id": "ffb86022-616c-4fba-ad1a-228475ae23aa",
   "metadata": {},
   "outputs": [],
   "source": [
    "df = pd.DataFrame(np.column_stack([name, team, games, apg, ap40, topg, top40]), \n",
    "                                   columns=[\"Name\", \"Team\", \"Games\", \"APG\", \"AP40\", \"TOPG\", \"TOP40\"])"
   ]
  },
  {
   "cell_type": "markdown",
   "id": "174dbacb-8dcd-44fd-bbc0-f09ccb406dd2",
   "metadata": {},
   "source": [
    "If we then call this \"df\" Python object, it will show us the first few, and final few rows of the dataframe, skipping over ones in the middle if the df is long."
   ]
  },
  {
   "cell_type": "code",
   "execution_count": 12,
   "id": "3e79c815-3111-470c-aa7e-919852c7a3c4",
   "metadata": {},
   "outputs": [
    {
     "data": {
      "text/html": [
       "<div>\n",
       "<style scoped>\n",
       "    .dataframe tbody tr th:only-of-type {\n",
       "        vertical-align: middle;\n",
       "    }\n",
       "\n",
       "    .dataframe tbody tr th {\n",
       "        vertical-align: top;\n",
       "    }\n",
       "\n",
       "    .dataframe thead th {\n",
       "        text-align: right;\n",
       "    }\n",
       "</style>\n",
       "<table border=\"1\" class=\"dataframe\">\n",
       "  <thead>\n",
       "    <tr style=\"text-align: right;\">\n",
       "      <th></th>\n",
       "      <th>Name</th>\n",
       "      <th>Team</th>\n",
       "      <th>Games</th>\n",
       "      <th>APG</th>\n",
       "      <th>AP40</th>\n",
       "      <th>TOPG</th>\n",
       "      <th>TOP40</th>\n",
       "    </tr>\n",
       "  </thead>\n",
       "  <tbody>\n",
       "    <tr>\n",
       "      <th>0</th>\n",
       "      <td>Prentiss Nixon</td>\n",
       "      <td>SHE</td>\n",
       "      <td>4</td>\n",
       "      <td>6.50</td>\n",
       "      <td>8.26</td>\n",
       "      <td>2.50</td>\n",
       "      <td>3.18</td>\n",
       "    </tr>\n",
       "    <tr>\n",
       "      <th>1</th>\n",
       "      <td>Isaiah Hill</td>\n",
       "      <td>CAL</td>\n",
       "      <td>5</td>\n",
       "      <td>6.40</td>\n",
       "      <td>8.77</td>\n",
       "      <td>2.40</td>\n",
       "      <td>3.29</td>\n",
       "    </tr>\n",
       "    <tr>\n",
       "      <th>2</th>\n",
       "      <td>Jalen Ray</td>\n",
       "      <td>SUR</td>\n",
       "      <td>1</td>\n",
       "      <td>6.00</td>\n",
       "      <td>7.58</td>\n",
       "      <td>0.00</td>\n",
       "      <td>0.00</td>\n",
       "    </tr>\n",
       "    <tr>\n",
       "      <th>3</th>\n",
       "      <td>Patrick Whelan</td>\n",
       "      <td>CAL</td>\n",
       "      <td>3</td>\n",
       "      <td>5.33</td>\n",
       "      <td>7.25</td>\n",
       "      <td>1.33</td>\n",
       "      <td>1.81</td>\n",
       "    </tr>\n",
       "    <tr>\n",
       "      <th>4</th>\n",
       "      <td>Kedrian Johnson</td>\n",
       "      <td>BRI</td>\n",
       "      <td>4</td>\n",
       "      <td>5.25</td>\n",
       "      <td>6.72</td>\n",
       "      <td>3.00</td>\n",
       "      <td>3.84</td>\n",
       "    </tr>\n",
       "    <tr>\n",
       "      <th>...</th>\n",
       "      <td>...</td>\n",
       "      <td>...</td>\n",
       "      <td>...</td>\n",
       "      <td>...</td>\n",
       "      <td>...</td>\n",
       "      <td>...</td>\n",
       "      <td>...</td>\n",
       "    </tr>\n",
       "    <tr>\n",
       "      <th>93</th>\n",
       "      <td>Alen Hadzibegovic</td>\n",
       "      <td>LON</td>\n",
       "      <td>1</td>\n",
       "      <td>0.00</td>\n",
       "      <td>0.00</td>\n",
       "      <td>1.00</td>\n",
       "      <td>4.15</td>\n",
       "    </tr>\n",
       "    <tr>\n",
       "      <th>94</th>\n",
       "      <td>Sauveur Kande</td>\n",
       "      <td>NEW</td>\n",
       "      <td>1</td>\n",
       "      <td>0.00</td>\n",
       "      <td>0.00</td>\n",
       "      <td>0.00</td>\n",
       "      <td>0.00</td>\n",
       "    </tr>\n",
       "    <tr>\n",
       "      <th>95</th>\n",
       "      <td>Kieran Otabor</td>\n",
       "      <td>SUR</td>\n",
       "      <td>1</td>\n",
       "      <td>0.00</td>\n",
       "      <td>0.00</td>\n",
       "      <td>0.00</td>\n",
       "      <td>0.00</td>\n",
       "    </tr>\n",
       "    <tr>\n",
       "      <th>96</th>\n",
       "      <td>Pasquale Landolfi</td>\n",
       "      <td>BRI</td>\n",
       "      <td>4</td>\n",
       "      <td>0.00</td>\n",
       "      <td>0.00</td>\n",
       "      <td>0.00</td>\n",
       "      <td>0.00</td>\n",
       "    </tr>\n",
       "    <tr>\n",
       "      <th>97</th>\n",
       "      <td>Remy Udeh</td>\n",
       "      <td>LON</td>\n",
       "      <td>2</td>\n",
       "      <td>0.00</td>\n",
       "      <td>0.00</td>\n",
       "      <td>0.00</td>\n",
       "      <td>0.00</td>\n",
       "    </tr>\n",
       "  </tbody>\n",
       "</table>\n",
       "<p>98 rows × 7 columns</p>\n",
       "</div>"
      ],
      "text/plain": [
       "                 Name Team Games   APG  AP40  TOPG TOP40\n",
       "0      Prentiss Nixon  SHE     4  6.50  8.26  2.50  3.18\n",
       "1         Isaiah Hill  CAL     5  6.40  8.77  2.40  3.29\n",
       "2           Jalen Ray  SUR     1  6.00  7.58  0.00  0.00\n",
       "3      Patrick Whelan  CAL     3  5.33  7.25  1.33  1.81\n",
       "4     Kedrian Johnson  BRI     4  5.25  6.72  3.00  3.84\n",
       "..                ...  ...   ...   ...   ...   ...   ...\n",
       "93  Alen Hadzibegovic  LON     1  0.00  0.00  1.00  4.15\n",
       "94      Sauveur Kande  NEW     1  0.00  0.00  0.00  0.00\n",
       "95      Kieran Otabor  SUR     1  0.00  0.00  0.00  0.00\n",
       "96  Pasquale Landolfi  BRI     4  0.00  0.00  0.00  0.00\n",
       "97          Remy Udeh  LON     2  0.00  0.00  0.00  0.00\n",
       "\n",
       "[98 rows x 7 columns]"
      ]
     },
     "execution_count": 12,
     "metadata": {},
     "output_type": "execute_result"
    }
   ],
   "source": [
    "df"
   ]
  },
  {
   "cell_type": "markdown",
   "id": "2b0628aa-3cac-4b47-814e-57f05dff6fb8",
   "metadata": {},
   "source": [
    "At this point, we could export the dataframe as either CSV or XLS format to continue processing it in spreadsheet software. However, we will carry out some basic analysis with Pandas."
   ]
  },
  {
   "cell_type": "markdown",
   "id": "b4bfeca5-4b2d-45e7-b907-dc82b75b9951",
   "metadata": {},
   "source": [
    "## Filtering and analysis of the data\n",
    "\n",
    "Let's assume we are looking for the players who are performing the best in terms of lots of assists while having low turnovers. We probably don't want to include all 98 players that we extracted, so let's start by keeping only the players who have played a minimum of three games (this is data from very early in the season). I then check the length of the resulting dataframe to see how many players remain.\n",
    "\n",
    "We also need to ensure that the Games data is numeric, as otherwise Python may assume it is a string."
   ]
  },
  {
   "cell_type": "code",
   "execution_count": 13,
   "id": "13df64d6-8063-4771-b737-c86180ed4ea1",
   "metadata": {},
   "outputs": [
    {
     "data": {
      "text/plain": [
       "69"
      ]
     },
     "execution_count": 13,
     "metadata": {},
     "output_type": "execute_result"
    }
   ],
   "source": [
    "df['Games'] = pd.to_numeric(df['Games'])\n",
    "df = df.loc[df['Games'] > 2].reset_index(drop=True)\n",
    "len(df)"
   ]
  },
  {
   "cell_type": "markdown",
   "id": "25bef672-ee4d-452c-b325-684524f172b1",
   "metadata": {},
   "source": [
    "To cut this down even further, we can assume that the kind of player we want to look at has an AP40 greater than 4.5 (so they would have at least 4.5 assists per game, if they played all 40 minutes) and that their actual assists per game is greater than 3."
   ]
  },
  {
   "cell_type": "code",
   "execution_count": 14,
   "id": "eaaaeb51-5978-4b45-aae4-29513ae88d70",
   "metadata": {},
   "outputs": [
    {
     "data": {
      "text/plain": [
       "14"
      ]
     },
     "execution_count": 14,
     "metadata": {},
     "output_type": "execute_result"
    }
   ],
   "source": [
    "df['AP40'] = pd.to_numeric(df['AP40'])\n",
    "df['APG'] = pd.to_numeric(df['APG'])\n",
    "df = df.loc[df['AP40'] > 4.5].reset_index(drop=True)\n",
    "df = df.loc[df['APG'] > 3].reset_index(drop=True)\n",
    "len(df)"
   ]
  },
  {
   "cell_type": "markdown",
   "id": "f1fc6801-9a1f-4068-96e5-4009fc03abe5",
   "metadata": {},
   "source": [
    "This basic filtering has reduced the number of players down to 14. For a little more analysis we can take a look at assist to turnover ratios."
   ]
  },
  {
   "cell_type": "markdown",
   "id": "8fa58aec-4853-435e-bd24-ea86915efb2a",
   "metadata": {},
   "source": [
    "### Calculating assist to turnover ratios\n",
    "\n",
    "You may have noticed that BritHoops already displays the assist to turnover ratio, but here we will calculate it for ourselves to see how we can do this with dataframes.\n",
    "\n",
    "First we will define a simple function to make the calculation. Note that if a player hadn't committed any turnovers, this function would give an error as it tries to divide by zero."
   ]
  },
  {
   "cell_type": "code",
   "execution_count": 15,
   "id": "8b75c112-faf0-485b-b35a-2a0d56420601",
   "metadata": {},
   "outputs": [],
   "source": [
    "def assists_to_turnovers(assists, turnovers):\n",
    "    \"\"\"Computes the assist to turnover ratio as assists / turnovers\"\"\"\n",
    "    ast_turn = assists / turnovers\n",
    "\n",
    "    return ast_turn"
   ]
  },
  {
   "cell_type": "markdown",
   "id": "49a9a3be-41a9-417c-aaf3-1a582fed67fd",
   "metadata": {},
   "source": [
    "We now calculate this for every row in the dataframe using what's know as a lambda. Then we can show the dataframe including this new data."
   ]
  },
  {
   "cell_type": "code",
   "execution_count": 16,
   "id": "055c0f49-e81b-4e00-82b7-984537e2a793",
   "metadata": {},
   "outputs": [
    {
     "data": {
      "text/html": [
       "<div>\n",
       "<style scoped>\n",
       "    .dataframe tbody tr th:only-of-type {\n",
       "        vertical-align: middle;\n",
       "    }\n",
       "\n",
       "    .dataframe tbody tr th {\n",
       "        vertical-align: top;\n",
       "    }\n",
       "\n",
       "    .dataframe thead th {\n",
       "        text-align: right;\n",
       "    }\n",
       "</style>\n",
       "<table border=\"1\" class=\"dataframe\">\n",
       "  <thead>\n",
       "    <tr style=\"text-align: right;\">\n",
       "      <th></th>\n",
       "      <th>Name</th>\n",
       "      <th>Team</th>\n",
       "      <th>Games</th>\n",
       "      <th>APG</th>\n",
       "      <th>AP40</th>\n",
       "      <th>TOPG</th>\n",
       "      <th>TOP40</th>\n",
       "      <th>AST:TO</th>\n",
       "    </tr>\n",
       "  </thead>\n",
       "  <tbody>\n",
       "    <tr>\n",
       "      <th>0</th>\n",
       "      <td>Prentiss Nixon</td>\n",
       "      <td>SHE</td>\n",
       "      <td>4</td>\n",
       "      <td>6.50</td>\n",
       "      <td>8.26</td>\n",
       "      <td>2.50</td>\n",
       "      <td>3.18</td>\n",
       "      <td>2.600000</td>\n",
       "    </tr>\n",
       "    <tr>\n",
       "      <th>1</th>\n",
       "      <td>Isaiah Hill</td>\n",
       "      <td>CAL</td>\n",
       "      <td>5</td>\n",
       "      <td>6.40</td>\n",
       "      <td>8.77</td>\n",
       "      <td>2.40</td>\n",
       "      <td>3.29</td>\n",
       "      <td>2.666667</td>\n",
       "    </tr>\n",
       "    <tr>\n",
       "      <th>2</th>\n",
       "      <td>Patrick Whelan</td>\n",
       "      <td>CAL</td>\n",
       "      <td>3</td>\n",
       "      <td>5.33</td>\n",
       "      <td>7.25</td>\n",
       "      <td>1.33</td>\n",
       "      <td>1.81</td>\n",
       "      <td>4.007519</td>\n",
       "    </tr>\n",
       "    <tr>\n",
       "      <th>3</th>\n",
       "      <td>Kedrian Johnson</td>\n",
       "      <td>BRI</td>\n",
       "      <td>4</td>\n",
       "      <td>5.25</td>\n",
       "      <td>6.72</td>\n",
       "      <td>3.00</td>\n",
       "      <td>3.84</td>\n",
       "      <td>1.750000</td>\n",
       "    </tr>\n",
       "    <tr>\n",
       "      <th>4</th>\n",
       "      <td>Cameron Holden</td>\n",
       "      <td>CHE</td>\n",
       "      <td>4</td>\n",
       "      <td>4.75</td>\n",
       "      <td>6.71</td>\n",
       "      <td>2.00</td>\n",
       "      <td>2.83</td>\n",
       "      <td>2.375000</td>\n",
       "    </tr>\n",
       "    <tr>\n",
       "      <th>5</th>\n",
       "      <td>Cameron Gooden</td>\n",
       "      <td>SUR</td>\n",
       "      <td>3</td>\n",
       "      <td>4.33</td>\n",
       "      <td>5.46</td>\n",
       "      <td>2.67</td>\n",
       "      <td>3.36</td>\n",
       "      <td>1.621723</td>\n",
       "    </tr>\n",
       "    <tr>\n",
       "      <th>6</th>\n",
       "      <td>Jordan Taylor</td>\n",
       "      <td>LON</td>\n",
       "      <td>3</td>\n",
       "      <td>4.00</td>\n",
       "      <td>5.62</td>\n",
       "      <td>2.33</td>\n",
       "      <td>3.28</td>\n",
       "      <td>1.716738</td>\n",
       "    </tr>\n",
       "    <tr>\n",
       "      <th>7</th>\n",
       "      <td>Ali Youssouf Ali</td>\n",
       "      <td>MAN</td>\n",
       "      <td>4</td>\n",
       "      <td>4.00</td>\n",
       "      <td>5.64</td>\n",
       "      <td>0.50</td>\n",
       "      <td>0.70</td>\n",
       "      <td>8.000000</td>\n",
       "    </tr>\n",
       "    <tr>\n",
       "      <th>8</th>\n",
       "      <td>Nicholas Lewis</td>\n",
       "      <td>MAN</td>\n",
       "      <td>4</td>\n",
       "      <td>3.75</td>\n",
       "      <td>6.40</td>\n",
       "      <td>2.00</td>\n",
       "      <td>3.41</td>\n",
       "      <td>1.875000</td>\n",
       "    </tr>\n",
       "    <tr>\n",
       "      <th>9</th>\n",
       "      <td>Jordan Spencer</td>\n",
       "      <td>NEW</td>\n",
       "      <td>5</td>\n",
       "      <td>3.40</td>\n",
       "      <td>5.69</td>\n",
       "      <td>1.20</td>\n",
       "      <td>2.01</td>\n",
       "      <td>2.833333</td>\n",
       "    </tr>\n",
       "    <tr>\n",
       "      <th>10</th>\n",
       "      <td>Josh Steel</td>\n",
       "      <td>SUR</td>\n",
       "      <td>3</td>\n",
       "      <td>3.33</td>\n",
       "      <td>4.72</td>\n",
       "      <td>2.33</td>\n",
       "      <td>3.31</td>\n",
       "      <td>1.429185</td>\n",
       "    </tr>\n",
       "    <tr>\n",
       "      <th>11</th>\n",
       "      <td>Kyle Jimenez</td>\n",
       "      <td>CAL</td>\n",
       "      <td>3</td>\n",
       "      <td>3.33</td>\n",
       "      <td>8.87</td>\n",
       "      <td>2.33</td>\n",
       "      <td>6.21</td>\n",
       "      <td>1.429185</td>\n",
       "    </tr>\n",
       "    <tr>\n",
       "      <th>12</th>\n",
       "      <td>Ricky Clemons</td>\n",
       "      <td>CHE</td>\n",
       "      <td>4</td>\n",
       "      <td>3.25</td>\n",
       "      <td>4.86</td>\n",
       "      <td>2.00</td>\n",
       "      <td>2.99</td>\n",
       "      <td>1.625000</td>\n",
       "    </tr>\n",
       "    <tr>\n",
       "      <th>13</th>\n",
       "      <td>Evan Walshe</td>\n",
       "      <td>BRI</td>\n",
       "      <td>4</td>\n",
       "      <td>3.25</td>\n",
       "      <td>5.70</td>\n",
       "      <td>2.00</td>\n",
       "      <td>3.51</td>\n",
       "      <td>1.625000</td>\n",
       "    </tr>\n",
       "  </tbody>\n",
       "</table>\n",
       "</div>"
      ],
      "text/plain": [
       "                Name Team  Games   APG  AP40  TOPG TOP40    AST:TO\n",
       "0     Prentiss Nixon  SHE      4  6.50  8.26  2.50  3.18  2.600000\n",
       "1        Isaiah Hill  CAL      5  6.40  8.77  2.40  3.29  2.666667\n",
       "2     Patrick Whelan  CAL      3  5.33  7.25  1.33  1.81  4.007519\n",
       "3    Kedrian Johnson  BRI      4  5.25  6.72  3.00  3.84  1.750000\n",
       "4     Cameron Holden  CHE      4  4.75  6.71  2.00  2.83  2.375000\n",
       "5     Cameron Gooden  SUR      3  4.33  5.46  2.67  3.36  1.621723\n",
       "6      Jordan Taylor  LON      3  4.00  5.62  2.33  3.28  1.716738\n",
       "7   Ali Youssouf Ali  MAN      4  4.00  5.64  0.50  0.70  8.000000\n",
       "8     Nicholas Lewis  MAN      4  3.75  6.40  2.00  3.41  1.875000\n",
       "9     Jordan Spencer  NEW      5  3.40  5.69  1.20  2.01  2.833333\n",
       "10        Josh Steel  SUR      3  3.33  4.72  2.33  3.31  1.429185\n",
       "11      Kyle Jimenez  CAL      3  3.33  8.87  2.33  6.21  1.429185\n",
       "12     Ricky Clemons  CHE      4  3.25  4.86  2.00  2.99  1.625000\n",
       "13       Evan Walshe  BRI      4  3.25  5.70  2.00  3.51  1.625000"
      ]
     },
     "execution_count": 16,
     "metadata": {},
     "output_type": "execute_result"
    }
   ],
   "source": [
    "df['TOPG'] = pd.to_numeric(df['TOPG'])\n",
    "df['AST:TO'] = df.apply(lambda x: assists_to_turnovers(x['APG'], x['TOPG']), axis=1)\n",
    "df"
   ]
  },
  {
   "cell_type": "markdown",
   "id": "6312d4e1-9a90-4be4-94e3-841543946670",
   "metadata": {},
   "source": [
    "We can calculate a similar ratio but using the per 40 minutes stats instead. Mathematically, this should give the same ratio as the per game stats, but we will check that is the actual result. Note that we use the same function as the \"per game\" stats as it simply divides the two values."
   ]
  },
  {
   "cell_type": "code",
   "execution_count": 17,
   "id": "bfac9338-59a3-410a-b733-5825fc99c75a",
   "metadata": {},
   "outputs": [],
   "source": [
    "df['TOP40'] = pd.to_numeric(df['TOP40'])\n",
    "df['AST40:TO40'] = df.apply(lambda x: assists_to_turnovers(x['AP40'], x['TOP40']), axis=1)"
   ]
  },
  {
   "cell_type": "markdown",
   "id": "f02a9b4e-b7b1-4412-a582-e487a7692878",
   "metadata": {},
   "source": [
    "It can be useful to take a look at summary statistics (mean, standard deviation etc.) too, let's go ahead and do that for the assists to turnover ratio (per game)."
   ]
  },
  {
   "cell_type": "code",
   "execution_count": 18,
   "id": "85d9f802-4922-4704-9670-4907252c4ced",
   "metadata": {},
   "outputs": [
    {
     "data": {
      "text/plain": [
       "count    14.000000\n",
       "mean      2.539596\n",
       "std       1.728221\n",
       "min       1.429185\n",
       "25%       1.625000\n",
       "50%       1.812500\n",
       "75%       2.650000\n",
       "max       8.000000\n",
       "Name: AST:TO, dtype: float64"
      ]
     },
     "execution_count": 18,
     "metadata": {},
     "output_type": "execute_result"
    }
   ],
   "source": [
    "df['AST:TO'].describe()"
   ]
  },
  {
   "cell_type": "markdown",
   "id": "9afc10fc-6708-4ab0-a285-748161bf72d4",
   "metadata": {},
   "source": [
    "We can see that while the mean average assists to turnovers (for this group of players who already have a lot of assists) is around 2.5, but one player has a frankly amazing 8.0 AST:TO. Let's see who that is by asking for all rows where AST:TO is greater than 7.9 (to allow for any rounding errors)."
   ]
  },
  {
   "cell_type": "code",
   "execution_count": 19,
   "id": "3ed8f912-eb0b-434c-9bab-36582dc3ed2e",
   "metadata": {},
   "outputs": [
    {
     "data": {
      "text/html": [
       "<div>\n",
       "<style scoped>\n",
       "    .dataframe tbody tr th:only-of-type {\n",
       "        vertical-align: middle;\n",
       "    }\n",
       "\n",
       "    .dataframe tbody tr th {\n",
       "        vertical-align: top;\n",
       "    }\n",
       "\n",
       "    .dataframe thead th {\n",
       "        text-align: right;\n",
       "    }\n",
       "</style>\n",
       "<table border=\"1\" class=\"dataframe\">\n",
       "  <thead>\n",
       "    <tr style=\"text-align: right;\">\n",
       "      <th></th>\n",
       "      <th>Name</th>\n",
       "      <th>Team</th>\n",
       "      <th>Games</th>\n",
       "      <th>APG</th>\n",
       "      <th>AP40</th>\n",
       "      <th>TOPG</th>\n",
       "      <th>TOP40</th>\n",
       "      <th>AST:TO</th>\n",
       "      <th>AST40:TO40</th>\n",
       "    </tr>\n",
       "  </thead>\n",
       "  <tbody>\n",
       "    <tr>\n",
       "      <th>7</th>\n",
       "      <td>Ali Youssouf Ali</td>\n",
       "      <td>MAN</td>\n",
       "      <td>4</td>\n",
       "      <td>4.0</td>\n",
       "      <td>5.64</td>\n",
       "      <td>0.5</td>\n",
       "      <td>0.7</td>\n",
       "      <td>8.0</td>\n",
       "      <td>8.057143</td>\n",
       "    </tr>\n",
       "  </tbody>\n",
       "</table>\n",
       "</div>"
      ],
      "text/plain": [
       "               Name Team  Games  APG  AP40  TOPG  TOP40  AST:TO  AST40:TO40\n",
       "7  Ali Youssouf Ali  MAN      4  4.0  5.64   0.5    0.7     8.0    8.057143"
      ]
     },
     "execution_count": 19,
     "metadata": {},
     "output_type": "execute_result"
    }
   ],
   "source": [
    "df.loc[df['AST:TO'] > 7.9]"
   ]
  },
  {
   "cell_type": "markdown",
   "id": "6d9c0ceb-371d-46ec-8ed2-2608eaff3726",
   "metadata": {},
   "source": [
    "It appears than Manchester Basketball's Ali Ali is a safe pair of hands! While his 4 assists per game isn't huge, the 0.5 turnovers per game is very small. Let's see how long he can keep this up.\n",
    "\n",
    "We should also check the summary statistics for the per 40 ratio too."
   ]
  },
  {
   "cell_type": "code",
   "execution_count": 20,
   "id": "390a2c3b-557d-44a3-becf-6991457782d2",
   "metadata": {},
   "outputs": [
    {
     "data": {
      "text/plain": [
       "count    14.000000\n",
       "mean      2.542614\n",
       "std       1.742138\n",
       "min       1.425982\n",
       "25%       1.625105\n",
       "50%       1.813416\n",
       "75%       2.648611\n",
       "max       8.057143\n",
       "Name: AST40:TO40, dtype: float64"
      ]
     },
     "execution_count": 20,
     "metadata": {},
     "output_type": "execute_result"
    }
   ],
   "source": [
    "df['AST40:TO40'].describe()"
   ]
  },
  {
   "cell_type": "markdown",
   "id": "2e2d7c58-3dd3-4f81-9b84-5d2cf065ebf0",
   "metadata": {},
   "source": [
    "The stats are really close to those per game \\- recall that mathematically the two ratios should be the same \\- with some slight differences that are presumably compound rounding errors. This means we can ignore this ratio and focus only on the AST:TO.\n",
    "\n",
    "To finish up, we can sort our dataframe by AST:TO to see which players are doing well, we can also then sort by AP40 and TOP40, just in case there are any ties. I have added a caption to the dataframe to make it look more like a table, and taken only the top 10 players by putting them into a new dataframe."
   ]
  },
  {
   "cell_type": "code",
   "execution_count": 21,
   "id": "55256afe-a5f8-4b17-a71f-525c310fc296",
   "metadata": {},
   "outputs": [
    {
     "data": {
      "text/html": [
       "<style type=\"text/css\">\n",
       "#T_40e28 caption {\n",
       "  text-align: left;\n",
       "  font-size: 18px;\n",
       "  font-weight: bold;\n",
       "}\n",
       "</style>\n",
       "<table id=\"T_40e28\">\n",
       "  <caption>SLB Assist to Turnover Leaders</caption>\n",
       "  <thead>\n",
       "    <tr>\n",
       "      <th id=\"T_40e28_level0_col0\" class=\"col_heading level0 col0\" >Name</th>\n",
       "      <th id=\"T_40e28_level0_col1\" class=\"col_heading level0 col1\" >Team</th>\n",
       "      <th id=\"T_40e28_level0_col2\" class=\"col_heading level0 col2\" >Games</th>\n",
       "      <th id=\"T_40e28_level0_col3\" class=\"col_heading level0 col3\" >APG</th>\n",
       "      <th id=\"T_40e28_level0_col4\" class=\"col_heading level0 col4\" >AP40</th>\n",
       "      <th id=\"T_40e28_level0_col5\" class=\"col_heading level0 col5\" >TOPG</th>\n",
       "      <th id=\"T_40e28_level0_col6\" class=\"col_heading level0 col6\" >TOP40</th>\n",
       "      <th id=\"T_40e28_level0_col7\" class=\"col_heading level0 col7\" >AST:TO</th>\n",
       "    </tr>\n",
       "  </thead>\n",
       "  <tbody>\n",
       "    <tr>\n",
       "      <td id=\"T_40e28_row0_col0\" class=\"data row0 col0\" >Ali Youssouf Ali</td>\n",
       "      <td id=\"T_40e28_row0_col1\" class=\"data row0 col1\" >MAN</td>\n",
       "      <td id=\"T_40e28_row0_col2\" class=\"data row0 col2\" >4</td>\n",
       "      <td id=\"T_40e28_row0_col3\" class=\"data row0 col3\" >4.000000</td>\n",
       "      <td id=\"T_40e28_row0_col4\" class=\"data row0 col4\" >5.640000</td>\n",
       "      <td id=\"T_40e28_row0_col5\" class=\"data row0 col5\" >0.500000</td>\n",
       "      <td id=\"T_40e28_row0_col6\" class=\"data row0 col6\" >0.700000</td>\n",
       "      <td id=\"T_40e28_row0_col7\" class=\"data row0 col7\" >8.0</td>\n",
       "    </tr>\n",
       "    <tr>\n",
       "      <td id=\"T_40e28_row1_col0\" class=\"data row1 col0\" >Patrick Whelan</td>\n",
       "      <td id=\"T_40e28_row1_col1\" class=\"data row1 col1\" >CAL</td>\n",
       "      <td id=\"T_40e28_row1_col2\" class=\"data row1 col2\" >3</td>\n",
       "      <td id=\"T_40e28_row1_col3\" class=\"data row1 col3\" >5.330000</td>\n",
       "      <td id=\"T_40e28_row1_col4\" class=\"data row1 col4\" >7.250000</td>\n",
       "      <td id=\"T_40e28_row1_col5\" class=\"data row1 col5\" >1.330000</td>\n",
       "      <td id=\"T_40e28_row1_col6\" class=\"data row1 col6\" >1.810000</td>\n",
       "      <td id=\"T_40e28_row1_col7\" class=\"data row1 col7\" >4.0</td>\n",
       "    </tr>\n",
       "    <tr>\n",
       "      <td id=\"T_40e28_row2_col0\" class=\"data row2 col0\" >Jordan Spencer</td>\n",
       "      <td id=\"T_40e28_row2_col1\" class=\"data row2 col1\" >NEW</td>\n",
       "      <td id=\"T_40e28_row2_col2\" class=\"data row2 col2\" >5</td>\n",
       "      <td id=\"T_40e28_row2_col3\" class=\"data row2 col3\" >3.400000</td>\n",
       "      <td id=\"T_40e28_row2_col4\" class=\"data row2 col4\" >5.690000</td>\n",
       "      <td id=\"T_40e28_row2_col5\" class=\"data row2 col5\" >1.200000</td>\n",
       "      <td id=\"T_40e28_row2_col6\" class=\"data row2 col6\" >2.010000</td>\n",
       "      <td id=\"T_40e28_row2_col7\" class=\"data row2 col7\" >2.8</td>\n",
       "    </tr>\n",
       "    <tr>\n",
       "      <td id=\"T_40e28_row3_col0\" class=\"data row3 col0\" >Isaiah Hill</td>\n",
       "      <td id=\"T_40e28_row3_col1\" class=\"data row3 col1\" >CAL</td>\n",
       "      <td id=\"T_40e28_row3_col2\" class=\"data row3 col2\" >5</td>\n",
       "      <td id=\"T_40e28_row3_col3\" class=\"data row3 col3\" >6.400000</td>\n",
       "      <td id=\"T_40e28_row3_col4\" class=\"data row3 col4\" >8.770000</td>\n",
       "      <td id=\"T_40e28_row3_col5\" class=\"data row3 col5\" >2.400000</td>\n",
       "      <td id=\"T_40e28_row3_col6\" class=\"data row3 col6\" >3.290000</td>\n",
       "      <td id=\"T_40e28_row3_col7\" class=\"data row3 col7\" >2.7</td>\n",
       "    </tr>\n",
       "    <tr>\n",
       "      <td id=\"T_40e28_row4_col0\" class=\"data row4 col0\" >Prentiss Nixon</td>\n",
       "      <td id=\"T_40e28_row4_col1\" class=\"data row4 col1\" >SHE</td>\n",
       "      <td id=\"T_40e28_row4_col2\" class=\"data row4 col2\" >4</td>\n",
       "      <td id=\"T_40e28_row4_col3\" class=\"data row4 col3\" >6.500000</td>\n",
       "      <td id=\"T_40e28_row4_col4\" class=\"data row4 col4\" >8.260000</td>\n",
       "      <td id=\"T_40e28_row4_col5\" class=\"data row4 col5\" >2.500000</td>\n",
       "      <td id=\"T_40e28_row4_col6\" class=\"data row4 col6\" >3.180000</td>\n",
       "      <td id=\"T_40e28_row4_col7\" class=\"data row4 col7\" >2.6</td>\n",
       "    </tr>\n",
       "    <tr>\n",
       "      <td id=\"T_40e28_row5_col0\" class=\"data row5 col0\" >Cameron Holden</td>\n",
       "      <td id=\"T_40e28_row5_col1\" class=\"data row5 col1\" >CHE</td>\n",
       "      <td id=\"T_40e28_row5_col2\" class=\"data row5 col2\" >4</td>\n",
       "      <td id=\"T_40e28_row5_col3\" class=\"data row5 col3\" >4.750000</td>\n",
       "      <td id=\"T_40e28_row5_col4\" class=\"data row5 col4\" >6.710000</td>\n",
       "      <td id=\"T_40e28_row5_col5\" class=\"data row5 col5\" >2.000000</td>\n",
       "      <td id=\"T_40e28_row5_col6\" class=\"data row5 col6\" >2.830000</td>\n",
       "      <td id=\"T_40e28_row5_col7\" class=\"data row5 col7\" >2.4</td>\n",
       "    </tr>\n",
       "    <tr>\n",
       "      <td id=\"T_40e28_row6_col0\" class=\"data row6 col0\" >Nicholas Lewis</td>\n",
       "      <td id=\"T_40e28_row6_col1\" class=\"data row6 col1\" >MAN</td>\n",
       "      <td id=\"T_40e28_row6_col2\" class=\"data row6 col2\" >4</td>\n",
       "      <td id=\"T_40e28_row6_col3\" class=\"data row6 col3\" >3.750000</td>\n",
       "      <td id=\"T_40e28_row6_col4\" class=\"data row6 col4\" >6.400000</td>\n",
       "      <td id=\"T_40e28_row6_col5\" class=\"data row6 col5\" >2.000000</td>\n",
       "      <td id=\"T_40e28_row6_col6\" class=\"data row6 col6\" >3.410000</td>\n",
       "      <td id=\"T_40e28_row6_col7\" class=\"data row6 col7\" >1.9</td>\n",
       "    </tr>\n",
       "    <tr>\n",
       "      <td id=\"T_40e28_row7_col0\" class=\"data row7 col0\" >Kedrian Johnson</td>\n",
       "      <td id=\"T_40e28_row7_col1\" class=\"data row7 col1\" >BRI</td>\n",
       "      <td id=\"T_40e28_row7_col2\" class=\"data row7 col2\" >4</td>\n",
       "      <td id=\"T_40e28_row7_col3\" class=\"data row7 col3\" >5.250000</td>\n",
       "      <td id=\"T_40e28_row7_col4\" class=\"data row7 col4\" >6.720000</td>\n",
       "      <td id=\"T_40e28_row7_col5\" class=\"data row7 col5\" >3.000000</td>\n",
       "      <td id=\"T_40e28_row7_col6\" class=\"data row7 col6\" >3.840000</td>\n",
       "      <td id=\"T_40e28_row7_col7\" class=\"data row7 col7\" >1.8</td>\n",
       "    </tr>\n",
       "    <tr>\n",
       "      <td id=\"T_40e28_row8_col0\" class=\"data row8 col0\" >Jordan Taylor</td>\n",
       "      <td id=\"T_40e28_row8_col1\" class=\"data row8 col1\" >LON</td>\n",
       "      <td id=\"T_40e28_row8_col2\" class=\"data row8 col2\" >3</td>\n",
       "      <td id=\"T_40e28_row8_col3\" class=\"data row8 col3\" >4.000000</td>\n",
       "      <td id=\"T_40e28_row8_col4\" class=\"data row8 col4\" >5.620000</td>\n",
       "      <td id=\"T_40e28_row8_col5\" class=\"data row8 col5\" >2.330000</td>\n",
       "      <td id=\"T_40e28_row8_col6\" class=\"data row8 col6\" >3.280000</td>\n",
       "      <td id=\"T_40e28_row8_col7\" class=\"data row8 col7\" >1.7</td>\n",
       "    </tr>\n",
       "    <tr>\n",
       "      <td id=\"T_40e28_row9_col0\" class=\"data row9 col0\" >Ricky Clemons</td>\n",
       "      <td id=\"T_40e28_row9_col1\" class=\"data row9 col1\" >CHE</td>\n",
       "      <td id=\"T_40e28_row9_col2\" class=\"data row9 col2\" >4</td>\n",
       "      <td id=\"T_40e28_row9_col3\" class=\"data row9 col3\" >3.250000</td>\n",
       "      <td id=\"T_40e28_row9_col4\" class=\"data row9 col4\" >4.860000</td>\n",
       "      <td id=\"T_40e28_row9_col5\" class=\"data row9 col5\" >2.000000</td>\n",
       "      <td id=\"T_40e28_row9_col6\" class=\"data row9 col6\" >2.990000</td>\n",
       "      <td id=\"T_40e28_row9_col7\" class=\"data row9 col7\" >1.6</td>\n",
       "    </tr>\n",
       "  </tbody>\n",
       "</table>\n"
      ],
      "text/plain": [
       "<pandas.io.formats.style.Styler at 0x1370fdd30>"
      ]
     },
     "execution_count": 21,
     "metadata": {},
     "output_type": "execute_result"
    }
   ],
   "source": [
    "df_top_10 = df.nlargest(10, 'AST:TO')\n",
    "df_top_10 = df_top_10.sort_values(by=[\"AST:TO\", \"AP40\", \"TOP40\"], ascending=[False, False, True])\n",
    "df_top_10 = df_top_10[[\"Name\", \"Team\", \"Games\", \"APG\", \"AP40\", \"TOPG\", \"TOP40\", \"AST:TO\"]]\n",
    "df_top_10.style.format({'AST:TO':'{:.2}'}).set_caption('SLB Assist to Turnover Leaders').set_table_styles([{\n",
    "    'selector': 'caption',\n",
    "    'props': [\n",
    "        ('text-align', 'left'),\n",
    "        ('font-size', '18px'),\n",
    "        ('font-weight', 'bold')\n",
    "    ]\n",
    "}]).hide(axis=\"index\")"
   ]
  },
  {
   "cell_type": "markdown",
   "id": "d28253f9-2a89-4c22-aab2-f8c7b79cb226",
   "metadata": {},
   "source": [
    "In this Chapter you have seen how data can be scraped from websites and placed into Pandas dataframes. We also engaged in some minor analysis of the data and calculated some other metrics. I've provided an optional exercise below for you to put some of your new knowledge in to practice."
   ]
  },
  {
   "cell_type": "markdown",
   "id": "4099ee65-bbc8-4981-8401-192f8f626125",
   "metadata": {},
   "source": [
    "## Exercise\n",
    "\n",
    "Choose one of the stats categories on BritHoops (such as rebounding) and repeat some of what you have learned here. Once you have scraped the data you will need to:\n",
    "1. Choose which stats to record in lists.\n",
    "2. Filter down the list of players based on games played and some minimum stat levels.\n",
    "3. Optionally calculate some additional metrics.\n",
    "4. Construct a final table of 10 players for your chosen category."
   ]
  },
  {
   "cell_type": "code",
   "execution_count": null,
   "id": "7cb8759d-0937-4a31-8d32-735dc4a36b31",
   "metadata": {},
   "outputs": [],
   "source": []
  }
 ],
 "metadata": {
  "kernelspec": {
   "display_name": "Python 3 (ipykernel)",
   "language": "python",
   "name": "python3"
  },
  "language_info": {
   "codemirror_mode": {
    "name": "ipython",
    "version": 3
   },
   "file_extension": ".py",
   "mimetype": "text/x-python",
   "name": "python",
   "nbconvert_exporter": "python",
   "pygments_lexer": "ipython3",
   "version": "3.12.1"
  }
 },
 "nbformat": 4,
 "nbformat_minor": 5
}