{
 "cells": [
  {
   "cell_type": "markdown",
   "id": "28b02abe-61e1-4405-bb8f-55822a8db34f",
   "metadata": {},
   "source": [
    "# Scraping Javascript heavy websites\n",
    "\n",
    "Unlike BritHoops, some websites make extensive use of Javascript for additional functionality, making it difficult to use the \"requests\" library to extract the data we want.\n",
    "\n",
    "This work in progress Chapter will demonstrate how to go about scraping data from such sites."
   ]
  },
  {
   "cell_type": "code",
   "execution_count": null,
   "id": "9c3b9304-b8eb-4fda-9b73-5dddc809fc5b",
   "metadata": {},
   "outputs": [],
   "source": []
  }
 ],
 "metadata": {
  "kernelspec": {
   "display_name": "Python 3 (ipykernel)",
   "language": "python",
   "name": "python3"
  },
  "language_info": {
   "codemirror_mode": {
    "name": "ipython",
    "version": 3
   },
   "file_extension": ".py",
   "mimetype": "text/x-python",
   "name": "python",
   "nbconvert_exporter": "python",
   "pygments_lexer": "ipython3",
   "version": "3.12.1"
  }
 },
 "nbformat": 4,
 "nbformat_minor": 5
}