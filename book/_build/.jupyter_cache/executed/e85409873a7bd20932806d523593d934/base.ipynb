{
 "cells": [
  {
   "cell_type": "code",
   "execution_count": 1,
   "id": "b485e9f3-812a-4d78-92a7-76944d92d206",
   "metadata": {},
   "outputs": [],
   "source": [
    "import requests\n",
    "from bs4 import BeautifulSoup\n",
    "import pandas as pd\n",
    "import numpy as np"
   ]
  },
  {
   "cell_type": "code",
   "execution_count": 2,
   "id": "6fdea16f-7b34-45bf-81af-46bcf51c74bb",
   "metadata": {},
   "outputs": [],
   "source": [
    "brit_hoops_url = \"https://brithoops.com/bbl-player-stats/assists-turnovers.php\"\n",
    "page = requests.get(brit_hoops_url)\n",
    "soup = BeautifulSoup(page.content)"
   ]
  },
  {
   "cell_type": "code",
   "execution_count": 3,
   "id": "b07d0697-544d-4986-9d59-37edc302f2e2",
   "metadata": {},
   "outputs": [],
   "source": [
    "html = soup.prettify(\"utf-8\")\n",
    "with open(\"example-soup.html\", \"wb\") as file:\n",
    "    file.write(html)"
   ]
  },
  {
   "cell_type": "code",
   "execution_count": 4,
   "id": "6bed5d6a-ff43-40c0-8ab5-a61168e13890",
   "metadata": {},
   "outputs": [],
   "source": [
    "tables = soup.find_all('table')"
   ]
  },
  {
   "cell_type": "code",
   "execution_count": 5,
   "id": "81051f99-3b54-4218-8420-1c90ee67ff12",
   "metadata": {},
   "outputs": [
    {
     "data": {
      "text/plain": [
       "1"
      ]
     },
     "execution_count": 5,
     "metadata": {},
     "output_type": "execute_result"
    }
   ],
   "source": [
    "len(tables)"
   ]
  },
  {
   "cell_type": "code",
   "execution_count": 6,
   "id": "d347cd49-91be-4549-8d27-bd24055bc494",
   "metadata": {},
   "outputs": [],
   "source": [
    "rows = tables[0].find_all('tr')"
   ]
  },
  {
   "cell_type": "code",
   "execution_count": 7,
   "id": "9374dac8-17c5-44cb-a4b4-3a652a8c1dee",
   "metadata": {},
   "outputs": [
    {
     "data": {
      "text/plain": [
       "<tr>\n",
       "<td class=\"nm\"><a class=\"pl-profile\" href=\"/bbl-player-stats/profile.php?id=1197\">Prentiss Nixon</a></td>\n",
       "<td>SHE</td>\n",
       "<td>4</td>\n",
       "<td>126</td>\n",
       "<td>31.50</td>\n",
       "<td>26</td>\n",
       "<td>6.50</td>\n",
       "<td>8.26</td>\n",
       "<td>42.07</td>\n",
       "<td>10</td>\n",
       "<td>2.50</td>\n",
       "<td>3.18</td>\n",
       "<td>12.46</td>\n",
       "<td>2.60</td>\n",
       "</tr>"
      ]
     },
     "execution_count": 7,
     "metadata": {},
     "output_type": "execute_result"
    }
   ],
   "source": [
    "rows[1]"
   ]
  },
  {
   "cell_type": "code",
   "execution_count": 8,
   "id": "a55bac2d-68ba-4503-b069-a22163f03b33",
   "metadata": {},
   "outputs": [],
   "source": [
    "name = []\n",
    "team = []\n",
    "games = []\n",
    "apg = []\n",
    "ap40 = []\n",
    "topg = []\n",
    "top40 = []"
   ]
  },
  {
   "cell_type": "code",
   "execution_count": 9,
   "id": "85bb5833-e882-40f8-a46a-63573091c246",
   "metadata": {},
   "outputs": [],
   "source": [
    "for row in rows[1:]:\n",
    "    cells = row.find_all('td')\n",
    "    # The name is held within HTML <a> link tags, hence we used Beautiful Soup to extract only the text part that we want\n",
    "    name.append(cells[0].find_all('a')[0].get_text())\n",
    "    team.append(cells[1].get_text())\n",
    "    games.append(cells[2].get_text())\n",
    "    apg.append(cells[6].get_text())\n",
    "    ap40.append(cells[7].get_text())\n",
    "    topg.append(cells[10].get_text())\n",
    "    top40.append(cells[11].get_text())"
   ]
  },
  {
   "cell_type": "code",
   "execution_count": 10,
   "id": "bde734e2-c528-4045-9b1c-24af9ee03005",
   "metadata": {},
   "outputs": [
    {
     "data": {
      "text/plain": [
       "98"
      ]
     },
     "execution_count": 10,
     "metadata": {},
     "output_type": "execute_result"
    }
   ],
   "source": [
    "len(name)"
   ]
  },
  {
   "cell_type": "code",
   "execution_count": 11,
   "id": "ffb86022-616c-4fba-ad1a-228475ae23aa",
   "metadata": {},
   "outputs": [],
   "source": [
    "df = pd.DataFrame(np.column_stack([name, team, games, apg, ap40, topg, top40]), \n",
    "                                   columns=[\"Name\", \"Team\", \"Games\", \"APG\", \"AP40\", \"TOPG\", \"TOP40\"])"
   ]
  },
  {
   "cell_type": "code",
   "execution_count": 12,
   "id": "3e79c815-3111-470c-aa7e-919852c7a3c4",
   "metadata": {},
   "outputs": [
    {
     "data": {
      "text/html": [
       "<div>\n",
       "<style scoped>\n",
       "    .dataframe tbody tr th:only-of-type {\n",
       "        vertical-align: middle;\n",
       "    }\n",
       "\n",
       "    .dataframe tbody tr th {\n",
       "        vertical-align: top;\n",
       "    }\n",
       "\n",
       "    .dataframe thead th {\n",
       "        text-align: right;\n",
       "    }\n",
       "</style>\n",
       "<table border=\"1\" class=\"dataframe\">\n",
       "  <thead>\n",
       "    <tr style=\"text-align: right;\">\n",
       "      <th></th>\n",
       "      <th>Name</th>\n",
       "      <th>Team</th>\n",
       "      <th>Games</th>\n",
       "      <th>APG</th>\n",
       "      <th>AP40</th>\n",
       "      <th>TOPG</th>\n",
       "      <th>TOP40</th>\n",
       "    </tr>\n",
       "  </thead>\n",
       "  <tbody>\n",
       "    <tr>\n",
       "      <th>0</th>\n",
       "      <td>Prentiss Nixon</td>\n",
       "      <td>SHE</td>\n",
       "      <td>4</td>\n",
       "      <td>6.50</td>\n",
       "      <td>8.26</td>\n",
       "      <td>2.50</td>\n",
       "      <td>3.18</td>\n",
       "    </tr>\n",
       "    <tr>\n",
       "      <th>1</th>\n",
       "      <td>Isaiah Hill</td>\n",
       "      <td>CAL</td>\n",
       "      <td>5</td>\n",
       "      <td>6.40</td>\n",
       "      <td>8.77</td>\n",
       "      <td>2.40</td>\n",
       "      <td>3.29</td>\n",
       "    </tr>\n",
       "    <tr>\n",
       "      <th>2</th>\n",
       "      <td>Jalen Ray</td>\n",
       "      <td>SUR</td>\n",
       "      <td>1</td>\n",
       "      <td>6.00</td>\n",
       "      <td>7.58</td>\n",
       "      <td>0.00</td>\n",
       "      <td>0.00</td>\n",
       "    </tr>\n",
       "    <tr>\n",
       "      <th>3</th>\n",
       "      <td>Patrick Whelan</td>\n",
       "      <td>CAL</td>\n",
       "      <td>3</td>\n",
       "      <td>5.33</td>\n",
       "      <td>7.25</td>\n",
       "      <td>1.33</td>\n",
       "      <td>1.81</td>\n",
       "    </tr>\n",
       "    <tr>\n",
       "      <th>4</th>\n",
       "      <td>Kedrian Johnson</td>\n",
       "      <td>BRI</td>\n",
       "      <td>4</td>\n",
       "      <td>5.25</td>\n",
       "      <td>6.72</td>\n",
       "      <td>3.00</td>\n",
       "      <td>3.84</td>\n",
       "    </tr>\n",
       "    <tr>\n",
       "      <th>...</th>\n",
       "      <td>...</td>\n",
       "      <td>...</td>\n",
       "      <td>...</td>\n",
       "      <td>...</td>\n",
       "      <td>...</td>\n",
       "      <td>...</td>\n",
       "      <td>...</td>\n",
       "    </tr>\n",
       "    <tr>\n",
       "      <th>93</th>\n",
       "      <td>Cole Long</td>\n",
       "      <td>NEW</td>\n",
       "      <td>2</td>\n",
       "      <td>0.00</td>\n",
       "      <td>0.00</td>\n",
       "      <td>1.50</td>\n",
       "      <td>5.18</td>\n",
       "    </tr>\n",
       "    <tr>\n",
       "      <th>94</th>\n",
       "      <td>Totonitoluwa Fagbenle</td>\n",
       "      <td>CAL</td>\n",
       "      <td>5</td>\n",
       "      <td>0.00</td>\n",
       "      <td>0.00</td>\n",
       "      <td>2.40</td>\n",
       "      <td>5.84</td>\n",
       "    </tr>\n",
       "    <tr>\n",
       "      <th>95</th>\n",
       "      <td>Greg Wild</td>\n",
       "      <td>CHE</td>\n",
       "      <td>2</td>\n",
       "      <td>0.00</td>\n",
       "      <td>0.00</td>\n",
       "      <td>0.00</td>\n",
       "      <td>0.00</td>\n",
       "    </tr>\n",
       "    <tr>\n",
       "      <th>96</th>\n",
       "      <td>Alen Hadzibegovic</td>\n",
       "      <td>LON</td>\n",
       "      <td>1</td>\n",
       "      <td>0.00</td>\n",
       "      <td>0.00</td>\n",
       "      <td>1.00</td>\n",
       "      <td>4.15</td>\n",
       "    </tr>\n",
       "    <tr>\n",
       "      <th>97</th>\n",
       "      <td>Sauveur Kande</td>\n",
       "      <td>NEW</td>\n",
       "      <td>1</td>\n",
       "      <td>0.00</td>\n",
       "      <td>0.00</td>\n",
       "      <td>0.00</td>\n",
       "      <td>0.00</td>\n",
       "    </tr>\n",
       "  </tbody>\n",
       "</table>\n",
       "<p>98 rows × 7 columns</p>\n",
       "</div>"
      ],
      "text/plain": [
       "                     Name Team Games   APG  AP40  TOPG TOP40\n",
       "0          Prentiss Nixon  SHE     4  6.50  8.26  2.50  3.18\n",
       "1             Isaiah Hill  CAL     5  6.40  8.77  2.40  3.29\n",
       "2               Jalen Ray  SUR     1  6.00  7.58  0.00  0.00\n",
       "3          Patrick Whelan  CAL     3  5.33  7.25  1.33  1.81\n",
       "4         Kedrian Johnson  BRI     4  5.25  6.72  3.00  3.84\n",
       "..                    ...  ...   ...   ...   ...   ...   ...\n",
       "93              Cole Long  NEW     2  0.00  0.00  1.50  5.18\n",
       "94  Totonitoluwa Fagbenle  CAL     5  0.00  0.00  2.40  5.84\n",
       "95              Greg Wild  CHE     2  0.00  0.00  0.00  0.00\n",
       "96      Alen Hadzibegovic  LON     1  0.00  0.00  1.00  4.15\n",
       "97          Sauveur Kande  NEW     1  0.00  0.00  0.00  0.00\n",
       "\n",
       "[98 rows x 7 columns]"
      ]
     },
     "execution_count": 12,
     "metadata": {},
     "output_type": "execute_result"
    }
   ],
   "source": [
    "df"
   ]
  },
  {
   "cell_type": "code",
   "execution_count": 13,
   "id": "13df64d6-8063-4771-b737-c86180ed4ea1",
   "metadata": {},
   "outputs": [
    {
     "data": {
      "text/plain": [
       "69"
      ]
     },
     "execution_count": 13,
     "metadata": {},
     "output_type": "execute_result"
    }
   ],
   "source": [
    "df['Games'] = pd.to_numeric(df['Games'])\n",
    "df = df.loc[df['Games'] > 2].reset_index(drop=True)\n",
    "len(df)"
   ]
  },
  {
   "cell_type": "code",
   "execution_count": 14,
   "id": "eaaaeb51-5978-4b45-aae4-29513ae88d70",
   "metadata": {},
   "outputs": [
    {
     "data": {
      "text/plain": [
       "14"
      ]
     },
     "execution_count": 14,
     "metadata": {},
     "output_type": "execute_result"
    }
   ],
   "source": [
    "df['AP40'] = pd.to_numeric(df['AP40'])\n",
    "df['APG'] = pd.to_numeric(df['APG'])\n",
    "df = df.loc[df['AP40'] > 4.5].reset_index(drop=True)\n",
    "df = df.loc[df['APG'] > 3].reset_index(drop=True)\n",
    "len(df)"
   ]
  },
  {
   "cell_type": "code",
   "execution_count": 15,
   "id": "8b75c112-faf0-485b-b35a-2a0d56420601",
   "metadata": {},
   "outputs": [],
   "source": [
    "def assists_to_turnovers(assists, turnovers):\n",
    "    \"\"\"Computes the assist to turnover ratio as assists / turnovers\"\"\"\n",
    "    ast_turn = assists / turnovers\n",
    "\n",
    "    return ast_turn"
   ]
  },
  {
   "cell_type": "code",
   "execution_count": 16,
   "id": "055c0f49-e81b-4e00-82b7-984537e2a793",
   "metadata": {},
   "outputs": [
    {
     "data": {
      "text/html": [
       "<div>\n",
       "<style scoped>\n",
       "    .dataframe tbody tr th:only-of-type {\n",
       "        vertical-align: middle;\n",
       "    }\n",
       "\n",
       "    .dataframe tbody tr th {\n",
       "        vertical-align: top;\n",
       "    }\n",
       "\n",
       "    .dataframe thead th {\n",
       "        text-align: right;\n",
       "    }\n",
       "</style>\n",
       "<table border=\"1\" class=\"dataframe\">\n",
       "  <thead>\n",
       "    <tr style=\"text-align: right;\">\n",
       "      <th></th>\n",
       "      <th>Name</th>\n",
       "      <th>Team</th>\n",
       "      <th>Games</th>\n",
       "      <th>APG</th>\n",
       "      <th>AP40</th>\n",
       "      <th>TOPG</th>\n",
       "      <th>TOP40</th>\n",
       "      <th>AST:TO</th>\n",
       "    </tr>\n",
       "  </thead>\n",
       "  <tbody>\n",
       "    <tr>\n",
       "      <th>0</th>\n",
       "      <td>Prentiss Nixon</td>\n",
       "      <td>SHE</td>\n",
       "      <td>4</td>\n",
       "      <td>6.50</td>\n",
       "      <td>8.26</td>\n",
       "      <td>2.50</td>\n",
       "      <td>3.18</td>\n",
       "      <td>2.600000</td>\n",
       "    </tr>\n",
       "    <tr>\n",
       "      <th>1</th>\n",
       "      <td>Isaiah Hill</td>\n",
       "      <td>CAL</td>\n",
       "      <td>5</td>\n",
       "      <td>6.40</td>\n",
       "      <td>8.77</td>\n",
       "      <td>2.40</td>\n",
       "      <td>3.29</td>\n",
       "      <td>2.666667</td>\n",
       "    </tr>\n",
       "    <tr>\n",
       "      <th>2</th>\n",
       "      <td>Patrick Whelan</td>\n",
       "      <td>CAL</td>\n",
       "      <td>3</td>\n",
       "      <td>5.33</td>\n",
       "      <td>7.25</td>\n",
       "      <td>1.33</td>\n",
       "      <td>1.81</td>\n",
       "      <td>4.007519</td>\n",
       "    </tr>\n",
       "    <tr>\n",
       "      <th>3</th>\n",
       "      <td>Kedrian Johnson</td>\n",
       "      <td>BRI</td>\n",
       "      <td>4</td>\n",
       "      <td>5.25</td>\n",
       "      <td>6.72</td>\n",
       "      <td>3.00</td>\n",
       "      <td>3.84</td>\n",
       "      <td>1.750000</td>\n",
       "    </tr>\n",
       "    <tr>\n",
       "      <th>4</th>\n",
       "      <td>Cameron Holden</td>\n",
       "      <td>CHE</td>\n",
       "      <td>4</td>\n",
       "      <td>4.75</td>\n",
       "      <td>6.71</td>\n",
       "      <td>2.00</td>\n",
       "      <td>2.83</td>\n",
       "      <td>2.375000</td>\n",
       "    </tr>\n",
       "    <tr>\n",
       "      <th>5</th>\n",
       "      <td>Cameron Gooden</td>\n",
       "      <td>SUR</td>\n",
       "      <td>3</td>\n",
       "      <td>4.33</td>\n",
       "      <td>5.46</td>\n",
       "      <td>2.67</td>\n",
       "      <td>3.36</td>\n",
       "      <td>1.621723</td>\n",
       "    </tr>\n",
       "    <tr>\n",
       "      <th>6</th>\n",
       "      <td>Jordan Taylor</td>\n",
       "      <td>LON</td>\n",
       "      <td>3</td>\n",
       "      <td>4.00</td>\n",
       "      <td>5.62</td>\n",
       "      <td>2.33</td>\n",
       "      <td>3.28</td>\n",
       "      <td>1.716738</td>\n",
       "    </tr>\n",
       "    <tr>\n",
       "      <th>7</th>\n",
       "      <td>Ali Youssouf Ali</td>\n",
       "      <td>MAN</td>\n",
       "      <td>4</td>\n",
       "      <td>4.00</td>\n",
       "      <td>5.64</td>\n",
       "      <td>0.50</td>\n",
       "      <td>0.70</td>\n",
       "      <td>8.000000</td>\n",
       "    </tr>\n",
       "    <tr>\n",
       "      <th>8</th>\n",
       "      <td>Nicholas Lewis</td>\n",
       "      <td>MAN</td>\n",
       "      <td>4</td>\n",
       "      <td>3.75</td>\n",
       "      <td>6.40</td>\n",
       "      <td>2.00</td>\n",
       "      <td>3.41</td>\n",
       "      <td>1.875000</td>\n",
       "    </tr>\n",
       "    <tr>\n",
       "      <th>9</th>\n",
       "      <td>Jordan Spencer</td>\n",
       "      <td>NEW</td>\n",
       "      <td>5</td>\n",
       "      <td>3.40</td>\n",
       "      <td>5.69</td>\n",
       "      <td>1.20</td>\n",
       "      <td>2.01</td>\n",
       "      <td>2.833333</td>\n",
       "    </tr>\n",
       "    <tr>\n",
       "      <th>10</th>\n",
       "      <td>Kyle Jimenez</td>\n",
       "      <td>CAL</td>\n",
       "      <td>3</td>\n",
       "      <td>3.33</td>\n",
       "      <td>8.87</td>\n",
       "      <td>2.33</td>\n",
       "      <td>6.21</td>\n",
       "      <td>1.429185</td>\n",
       "    </tr>\n",
       "    <tr>\n",
       "      <th>11</th>\n",
       "      <td>Josh Steel</td>\n",
       "      <td>SUR</td>\n",
       "      <td>3</td>\n",
       "      <td>3.33</td>\n",
       "      <td>4.72</td>\n",
       "      <td>2.33</td>\n",
       "      <td>3.31</td>\n",
       "      <td>1.429185</td>\n",
       "    </tr>\n",
       "    <tr>\n",
       "      <th>12</th>\n",
       "      <td>Ricky Clemons</td>\n",
       "      <td>CHE</td>\n",
       "      <td>4</td>\n",
       "      <td>3.25</td>\n",
       "      <td>4.86</td>\n",
       "      <td>2.00</td>\n",
       "      <td>2.99</td>\n",
       "      <td>1.625000</td>\n",
       "    </tr>\n",
       "    <tr>\n",
       "      <th>13</th>\n",
       "      <td>Evan Walshe</td>\n",
       "      <td>BRI</td>\n",
       "      <td>4</td>\n",
       "      <td>3.25</td>\n",
       "      <td>5.70</td>\n",
       "      <td>2.00</td>\n",
       "      <td>3.51</td>\n",
       "      <td>1.625000</td>\n",
       "    </tr>\n",
       "  </tbody>\n",
       "</table>\n",
       "</div>"
      ],
      "text/plain": [
       "                Name Team  Games   APG  AP40  TOPG TOP40    AST:TO\n",
       "0     Prentiss Nixon  SHE      4  6.50  8.26  2.50  3.18  2.600000\n",
       "1        Isaiah Hill  CAL      5  6.40  8.77  2.40  3.29  2.666667\n",
       "2     Patrick Whelan  CAL      3  5.33  7.25  1.33  1.81  4.007519\n",
       "3    Kedrian Johnson  BRI      4  5.25  6.72  3.00  3.84  1.750000\n",
       "4     Cameron Holden  CHE      4  4.75  6.71  2.00  2.83  2.375000\n",
       "5     Cameron Gooden  SUR      3  4.33  5.46  2.67  3.36  1.621723\n",
       "6      Jordan Taylor  LON      3  4.00  5.62  2.33  3.28  1.716738\n",
       "7   Ali Youssouf Ali  MAN      4  4.00  5.64  0.50  0.70  8.000000\n",
       "8     Nicholas Lewis  MAN      4  3.75  6.40  2.00  3.41  1.875000\n",
       "9     Jordan Spencer  NEW      5  3.40  5.69  1.20  2.01  2.833333\n",
       "10      Kyle Jimenez  CAL      3  3.33  8.87  2.33  6.21  1.429185\n",
       "11        Josh Steel  SUR      3  3.33  4.72  2.33  3.31  1.429185\n",
       "12     Ricky Clemons  CHE      4  3.25  4.86  2.00  2.99  1.625000\n",
       "13       Evan Walshe  BRI      4  3.25  5.70  2.00  3.51  1.625000"
      ]
     },
     "execution_count": 16,
     "metadata": {},
     "output_type": "execute_result"
    }
   ],
   "source": [
    "df['TOPG'] = pd.to_numeric(df['TOPG'])\n",
    "df['AST:TO'] = df.apply(lambda x: assists_to_turnovers(x['APG'], x['TOPG']), axis=1)\n",
    "df"
   ]
  },
  {
   "cell_type": "code",
   "execution_count": 17,
   "id": "bfac9338-59a3-410a-b733-5825fc99c75a",
   "metadata": {},
   "outputs": [],
   "source": [
    "df['TOP40'] = pd.to_numeric(df['TOP40'])\n",
    "df['AST40:TO40'] = df.apply(lambda x: assists_to_turnovers(x['AP40'], x['TOP40']), axis=1)"
   ]
  },
  {
   "cell_type": "code",
   "execution_count": 18,
   "id": "85d9f802-4922-4704-9670-4907252c4ced",
   "metadata": {},
   "outputs": [
    {
     "data": {
      "text/plain": [
       "count    14.000000\n",
       "mean      2.539596\n",
       "std       1.728221\n",
       "min       1.429185\n",
       "25%       1.625000\n",
       "50%       1.812500\n",
       "75%       2.650000\n",
       "max       8.000000\n",
       "Name: AST:TO, dtype: float64"
      ]
     },
     "execution_count": 18,
     "metadata": {},
     "output_type": "execute_result"
    }
   ],
   "source": [
    "df['AST:TO'].describe()"
   ]
  },
  {
   "cell_type": "code",
   "execution_count": 19,
   "id": "3ed8f912-eb0b-434c-9bab-36582dc3ed2e",
   "metadata": {},
   "outputs": [
    {
     "data": {
      "text/html": [
       "<div>\n",
       "<style scoped>\n",
       "    .dataframe tbody tr th:only-of-type {\n",
       "        vertical-align: middle;\n",
       "    }\n",
       "\n",
       "    .dataframe tbody tr th {\n",
       "        vertical-align: top;\n",
       "    }\n",
       "\n",
       "    .dataframe thead th {\n",
       "        text-align: right;\n",
       "    }\n",
       "</style>\n",
       "<table border=\"1\" class=\"dataframe\">\n",
       "  <thead>\n",
       "    <tr style=\"text-align: right;\">\n",
       "      <th></th>\n",
       "      <th>Name</th>\n",
       "      <th>Team</th>\n",
       "      <th>Games</th>\n",
       "      <th>APG</th>\n",
       "      <th>AP40</th>\n",
       "      <th>TOPG</th>\n",
       "      <th>TOP40</th>\n",
       "      <th>AST:TO</th>\n",
       "      <th>AST40:TO40</th>\n",
       "    </tr>\n",
       "  </thead>\n",
       "  <tbody>\n",
       "    <tr>\n",
       "      <th>7</th>\n",
       "      <td>Ali Youssouf Ali</td>\n",
       "      <td>MAN</td>\n",
       "      <td>4</td>\n",
       "      <td>4.0</td>\n",
       "      <td>5.64</td>\n",
       "      <td>0.5</td>\n",
       "      <td>0.7</td>\n",
       "      <td>8.0</td>\n",
       "      <td>8.057143</td>\n",
       "    </tr>\n",
       "  </tbody>\n",
       "</table>\n",
       "</div>"
      ],
      "text/plain": [
       "               Name Team  Games  APG  AP40  TOPG  TOP40  AST:TO  AST40:TO40\n",
       "7  Ali Youssouf Ali  MAN      4  4.0  5.64   0.5    0.7     8.0    8.057143"
      ]
     },
     "execution_count": 19,
     "metadata": {},
     "output_type": "execute_result"
    }
   ],
   "source": [
    "df.loc[df['AST:TO'] > 7.9]"
   ]
  },
  {
   "cell_type": "code",
   "execution_count": 20,
   "id": "390a2c3b-557d-44a3-becf-6991457782d2",
   "metadata": {},
   "outputs": [
    {
     "data": {
      "text/plain": [
       "count    14.000000\n",
       "mean      2.542614\n",
       "std       1.742138\n",
       "min       1.425982\n",
       "25%       1.625105\n",
       "50%       1.813416\n",
       "75%       2.648611\n",
       "max       8.057143\n",
       "Name: AST40:TO40, dtype: float64"
      ]
     },
     "execution_count": 20,
     "metadata": {},
     "output_type": "execute_result"
    }
   ],
   "source": [
    "df['AST40:TO40'].describe()"
   ]
  },
  {
   "cell_type": "code",
   "execution_count": 21,
   "id": "55256afe-a5f8-4b17-a71f-525c310fc296",
   "metadata": {},
   "outputs": [
    {
     "data": {
      "text/html": [
       "<style type=\"text/css\">\n",
       "#T_474d2 caption {\n",
       "  text-align: left;\n",
       "  font-size: 18px;\n",
       "  font-weight: bold;\n",
       "}\n",
       "</style>\n",
       "<table id=\"T_474d2\">\n",
       "  <caption>SLB Assist to Turnover Leaders</caption>\n",
       "  <thead>\n",
       "    <tr>\n",
       "      <th id=\"T_474d2_level0_col0\" class=\"col_heading level0 col0\" >Name</th>\n",
       "      <th id=\"T_474d2_level0_col1\" class=\"col_heading level0 col1\" >Team</th>\n",
       "      <th id=\"T_474d2_level0_col2\" class=\"col_heading level0 col2\" >Games</th>\n",
       "      <th id=\"T_474d2_level0_col3\" class=\"col_heading level0 col3\" >APG</th>\n",
       "      <th id=\"T_474d2_level0_col4\" class=\"col_heading level0 col4\" >AP40</th>\n",
       "      <th id=\"T_474d2_level0_col5\" class=\"col_heading level0 col5\" >TOPG</th>\n",
       "      <th id=\"T_474d2_level0_col6\" class=\"col_heading level0 col6\" >TOP40</th>\n",
       "      <th id=\"T_474d2_level0_col7\" class=\"col_heading level0 col7\" >AST:TO</th>\n",
       "    </tr>\n",
       "  </thead>\n",
       "  <tbody>\n",
       "    <tr>\n",
       "      <td id=\"T_474d2_row0_col0\" class=\"data row0 col0\" >Ali Youssouf Ali</td>\n",
       "      <td id=\"T_474d2_row0_col1\" class=\"data row0 col1\" >MAN</td>\n",
       "      <td id=\"T_474d2_row0_col2\" class=\"data row0 col2\" >4</td>\n",
       "      <td id=\"T_474d2_row0_col3\" class=\"data row0 col3\" >4.000000</td>\n",
       "      <td id=\"T_474d2_row0_col4\" class=\"data row0 col4\" >5.640000</td>\n",
       "      <td id=\"T_474d2_row0_col5\" class=\"data row0 col5\" >0.500000</td>\n",
       "      <td id=\"T_474d2_row0_col6\" class=\"data row0 col6\" >0.700000</td>\n",
       "      <td id=\"T_474d2_row0_col7\" class=\"data row0 col7\" >8.0</td>\n",
       "    </tr>\n",
       "    <tr>\n",
       "      <td id=\"T_474d2_row1_col0\" class=\"data row1 col0\" >Patrick Whelan</td>\n",
       "      <td id=\"T_474d2_row1_col1\" class=\"data row1 col1\" >CAL</td>\n",
       "      <td id=\"T_474d2_row1_col2\" class=\"data row1 col2\" >3</td>\n",
       "      <td id=\"T_474d2_row1_col3\" class=\"data row1 col3\" >5.330000</td>\n",
       "      <td id=\"T_474d2_row1_col4\" class=\"data row1 col4\" >7.250000</td>\n",
       "      <td id=\"T_474d2_row1_col5\" class=\"data row1 col5\" >1.330000</td>\n",
       "      <td id=\"T_474d2_row1_col6\" class=\"data row1 col6\" >1.810000</td>\n",
       "      <td id=\"T_474d2_row1_col7\" class=\"data row1 col7\" >4.0</td>\n",
       "    </tr>\n",
       "    <tr>\n",
       "      <td id=\"T_474d2_row2_col0\" class=\"data row2 col0\" >Jordan Spencer</td>\n",
       "      <td id=\"T_474d2_row2_col1\" class=\"data row2 col1\" >NEW</td>\n",
       "      <td id=\"T_474d2_row2_col2\" class=\"data row2 col2\" >5</td>\n",
       "      <td id=\"T_474d2_row2_col3\" class=\"data row2 col3\" >3.400000</td>\n",
       "      <td id=\"T_474d2_row2_col4\" class=\"data row2 col4\" >5.690000</td>\n",
       "      <td id=\"T_474d2_row2_col5\" class=\"data row2 col5\" >1.200000</td>\n",
       "      <td id=\"T_474d2_row2_col6\" class=\"data row2 col6\" >2.010000</td>\n",
       "      <td id=\"T_474d2_row2_col7\" class=\"data row2 col7\" >2.8</td>\n",
       "    </tr>\n",
       "    <tr>\n",
       "      <td id=\"T_474d2_row3_col0\" class=\"data row3 col0\" >Isaiah Hill</td>\n",
       "      <td id=\"T_474d2_row3_col1\" class=\"data row3 col1\" >CAL</td>\n",
       "      <td id=\"T_474d2_row3_col2\" class=\"data row3 col2\" >5</td>\n",
       "      <td id=\"T_474d2_row3_col3\" class=\"data row3 col3\" >6.400000</td>\n",
       "      <td id=\"T_474d2_row3_col4\" class=\"data row3 col4\" >8.770000</td>\n",
       "      <td id=\"T_474d2_row3_col5\" class=\"data row3 col5\" >2.400000</td>\n",
       "      <td id=\"T_474d2_row3_col6\" class=\"data row3 col6\" >3.290000</td>\n",
       "      <td id=\"T_474d2_row3_col7\" class=\"data row3 col7\" >2.7</td>\n",
       "    </tr>\n",
       "    <tr>\n",
       "      <td id=\"T_474d2_row4_col0\" class=\"data row4 col0\" >Prentiss Nixon</td>\n",
       "      <td id=\"T_474d2_row4_col1\" class=\"data row4 col1\" >SHE</td>\n",
       "      <td id=\"T_474d2_row4_col2\" class=\"data row4 col2\" >4</td>\n",
       "      <td id=\"T_474d2_row4_col3\" class=\"data row4 col3\" >6.500000</td>\n",
       "      <td id=\"T_474d2_row4_col4\" class=\"data row4 col4\" >8.260000</td>\n",
       "      <td id=\"T_474d2_row4_col5\" class=\"data row4 col5\" >2.500000</td>\n",
       "      <td id=\"T_474d2_row4_col6\" class=\"data row4 col6\" >3.180000</td>\n",
       "      <td id=\"T_474d2_row4_col7\" class=\"data row4 col7\" >2.6</td>\n",
       "    </tr>\n",
       "    <tr>\n",
       "      <td id=\"T_474d2_row5_col0\" class=\"data row5 col0\" >Cameron Holden</td>\n",
       "      <td id=\"T_474d2_row5_col1\" class=\"data row5 col1\" >CHE</td>\n",
       "      <td id=\"T_474d2_row5_col2\" class=\"data row5 col2\" >4</td>\n",
       "      <td id=\"T_474d2_row5_col3\" class=\"data row5 col3\" >4.750000</td>\n",
       "      <td id=\"T_474d2_row5_col4\" class=\"data row5 col4\" >6.710000</td>\n",
       "      <td id=\"T_474d2_row5_col5\" class=\"data row5 col5\" >2.000000</td>\n",
       "      <td id=\"T_474d2_row5_col6\" class=\"data row5 col6\" >2.830000</td>\n",
       "      <td id=\"T_474d2_row5_col7\" class=\"data row5 col7\" >2.4</td>\n",
       "    </tr>\n",
       "    <tr>\n",
       "      <td id=\"T_474d2_row6_col0\" class=\"data row6 col0\" >Nicholas Lewis</td>\n",
       "      <td id=\"T_474d2_row6_col1\" class=\"data row6 col1\" >MAN</td>\n",
       "      <td id=\"T_474d2_row6_col2\" class=\"data row6 col2\" >4</td>\n",
       "      <td id=\"T_474d2_row6_col3\" class=\"data row6 col3\" >3.750000</td>\n",
       "      <td id=\"T_474d2_row6_col4\" class=\"data row6 col4\" >6.400000</td>\n",
       "      <td id=\"T_474d2_row6_col5\" class=\"data row6 col5\" >2.000000</td>\n",
       "      <td id=\"T_474d2_row6_col6\" class=\"data row6 col6\" >3.410000</td>\n",
       "      <td id=\"T_474d2_row6_col7\" class=\"data row6 col7\" >1.9</td>\n",
       "    </tr>\n",
       "    <tr>\n",
       "      <td id=\"T_474d2_row7_col0\" class=\"data row7 col0\" >Kedrian Johnson</td>\n",
       "      <td id=\"T_474d2_row7_col1\" class=\"data row7 col1\" >BRI</td>\n",
       "      <td id=\"T_474d2_row7_col2\" class=\"data row7 col2\" >4</td>\n",
       "      <td id=\"T_474d2_row7_col3\" class=\"data row7 col3\" >5.250000</td>\n",
       "      <td id=\"T_474d2_row7_col4\" class=\"data row7 col4\" >6.720000</td>\n",
       "      <td id=\"T_474d2_row7_col5\" class=\"data row7 col5\" >3.000000</td>\n",
       "      <td id=\"T_474d2_row7_col6\" class=\"data row7 col6\" >3.840000</td>\n",
       "      <td id=\"T_474d2_row7_col7\" class=\"data row7 col7\" >1.8</td>\n",
       "    </tr>\n",
       "    <tr>\n",
       "      <td id=\"T_474d2_row8_col0\" class=\"data row8 col0\" >Jordan Taylor</td>\n",
       "      <td id=\"T_474d2_row8_col1\" class=\"data row8 col1\" >LON</td>\n",
       "      <td id=\"T_474d2_row8_col2\" class=\"data row8 col2\" >3</td>\n",
       "      <td id=\"T_474d2_row8_col3\" class=\"data row8 col3\" >4.000000</td>\n",
       "      <td id=\"T_474d2_row8_col4\" class=\"data row8 col4\" >5.620000</td>\n",
       "      <td id=\"T_474d2_row8_col5\" class=\"data row8 col5\" >2.330000</td>\n",
       "      <td id=\"T_474d2_row8_col6\" class=\"data row8 col6\" >3.280000</td>\n",
       "      <td id=\"T_474d2_row8_col7\" class=\"data row8 col7\" >1.7</td>\n",
       "    </tr>\n",
       "    <tr>\n",
       "      <td id=\"T_474d2_row9_col0\" class=\"data row9 col0\" >Ricky Clemons</td>\n",
       "      <td id=\"T_474d2_row9_col1\" class=\"data row9 col1\" >CHE</td>\n",
       "      <td id=\"T_474d2_row9_col2\" class=\"data row9 col2\" >4</td>\n",
       "      <td id=\"T_474d2_row9_col3\" class=\"data row9 col3\" >3.250000</td>\n",
       "      <td id=\"T_474d2_row9_col4\" class=\"data row9 col4\" >4.860000</td>\n",
       "      <td id=\"T_474d2_row9_col5\" class=\"data row9 col5\" >2.000000</td>\n",
       "      <td id=\"T_474d2_row9_col6\" class=\"data row9 col6\" >2.990000</td>\n",
       "      <td id=\"T_474d2_row9_col7\" class=\"data row9 col7\" >1.6</td>\n",
       "    </tr>\n",
       "  </tbody>\n",
       "</table>\n"
      ],
      "text/plain": [
       "<pandas.io.formats.style.Styler at 0x12c271fd0>"
      ]
     },
     "execution_count": 21,
     "metadata": {},
     "output_type": "execute_result"
    }
   ],
   "source": [
    "df_top_10 = df.nlargest(10, 'AST:TO')\n",
    "df_top_10 = df_top_10.sort_values(by=[\"AST:TO\", \"AP40\", \"TOP40\"], ascending=[False, False, True])\n",
    "df_top_10 = df_top_10[[\"Name\", \"Team\", \"Games\", \"APG\", \"AP40\", \"TOPG\", \"TOP40\", \"AST:TO\"]]\n",
    "df_top_10.style.format({'AST:TO':'{:.2}'}).set_caption('SLB Assist to Turnover Leaders').set_table_styles([{\n",
    "    'selector': 'caption',\n",
    "    'props': [\n",
    "        ('text-align', 'left'),\n",
    "        ('font-size', '18px'),\n",
    "        ('font-weight', 'bold')\n",
    "    ]\n",
    "}]).hide(axis=\"index\")"
   ]
  }
 ],
 "metadata": {
  "kernelspec": {
   "display_name": "Python 3 (ipykernel)",
   "language": "python",
   "name": "python3"
  },
  "language_info": {
   "codemirror_mode": {
    "name": "ipython",
    "version": 3
   },
   "file_extension": ".py",
   "mimetype": "text/x-python",
   "name": "python",
   "nbconvert_exporter": "python",
   "pygments_lexer": "ipython3",
   "version": "3.12.1"
  }
 },
 "nbformat": 4,
 "nbformat_minor": 5
}