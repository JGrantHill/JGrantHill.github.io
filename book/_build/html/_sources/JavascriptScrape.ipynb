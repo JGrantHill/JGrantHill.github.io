{
 "cells": [
  {
   "cell_type": "markdown",
   "id": "28b02abe-61e1-4405-bb8f-55822a8db34f",
   "metadata": {},
   "source": [
    "# Scraping Javascript heavy websites\n",
    "\n",
    "Unlike BritHoops, some websites make extensive use of Javascript for additional functionality, making it difficult to use the \"requests\" library to extract the data we want.\n",
    "\n",
    "In this Chapter, our aim is to extract the results of the games played this far in the Men's SLB, which can be found on the [livestats page](https://www.superleaguebasketballm.co.uk/livestats/). Once we have the data we want, we will process it and produce a table of the results from the Trophy competition.\n",
    "\n",
    "<div class=\"alert alert-block alert-info\">\n",
    "<b>Note:</b> The actual SLB Trophy competition was divided into North and South pools, so a combined table isn't reflective of the actual competition. However, one of the beauties of scraping and processing data is that we can produce some fictional \"what-ifs\" to explore\"</div>\n",
    "\n",
    "Here's a cropped screenshot of the livestats page so that you can see what it looks like:\n",
    "\n",
    "![Screenshot of the livestats page](./img/livestats.png)\n",
    "\n",
    "As you can see, this data is almost certainly found in a table somewhere within the HTML."
   ]
  },
  {
   "cell_type": "markdown",
   "id": "9eee657f-b759-489d-8a1a-49b9f6b2c201",
   "metadata": {},
   "source": [
    "## Accessing the correct HTML data\n",
    "\n",
    "As a first attempt we can try scraping the HTML from livestats with requests and Beautiful Soup, in much the same way as we did for our [First Foray into Data Scraping](FirstForay.ipynb)."
   ]
  },
  {
   "cell_type": "code",
   "execution_count": 1,
   "id": "9c3b9304-b8eb-4fda-9b73-5dddc809fc5b",
   "metadata": {},
   "outputs": [],
   "source": [
    "import requests\n",
    "from bs4 import BeautifulSoup"
   ]
  },
  {
   "cell_type": "markdown",
   "id": "cdf56ea3-0a31-461b-956b-c012e88fdede",
   "metadata": {},
   "source": [
    "Due to the way that the livestats page serves up its HTML, we need to pass an extra option to requests too \\- this means it will ignore any untrusted SSL certificates. This is a minor security risk, so should be avoided where possible and you are likely to recieve a Python warning when running it."
   ]
  },
  {
   "cell_type": "code",
   "execution_count": 3,
   "id": "fc94076a-4a43-44cf-910d-1a1427500be3",
   "metadata": {},
   "outputs": [
    {
     "name": "stderr",
     "output_type": "stream",
     "text": [
      "/Users/ch1jgh/miniforge3/envs/bball-analytics/lib/python3.12/site-packages/urllib3/connectionpool.py:1099: InsecureRequestWarning: Unverified HTTPS request is being made to host 'www.superleaguebasketballm.co.uk'. Adding certificate verification is strongly advised. See: https://urllib3.readthedocs.io/en/latest/advanced-usage.html#tls-warnings\n",
      "  warnings.warn(\n"
     ]
    }
   ],
   "source": [
    "livestats_url = 'https://www.superleaguebasketballm.co.uk/livestats/'\n",
    "page = requests.get(livestats_url, verify=False)\n",
    "soup = BeautifulSoup(page.content)"
   ]
  },
  {
   "cell_type": "markdown",
   "id": "c8dc939d-837a-4a94-809b-c91c2401c605",
   "metadata": {},
   "source": [
    "If you save the HTML soup to a file and inspect it, you'll see it is much more complex that what we saw with BritHoops. We can persist with this and try to extract any HTML tables from the soup."
   ]
  },
  {
   "cell_type": "code",
   "execution_count": 7,
   "id": "849463f4-e7d6-4b1e-abd3-1dff09931602",
   "metadata": {},
   "outputs": [
    {
     "data": {
      "text/plain": [
       "0"
      ]
     },
     "execution_count": 7,
     "metadata": {},
     "output_type": "execute_result"
    }
   ],
   "source": [
    "tables = soup.find_all('table')\n",
    "len(tables)"
   ]
  },
  {
   "cell_type": "markdown",
   "id": "b8d69a16-66a4-4bf1-9e67-03d1f47ac6f6",
   "metadata": {},
   "source": [
    "Hmm, it appears that are no HTML tables available in the soup we scraped. One of the reasons for this is that the webpage is using [iframes](https://www.w3schools.com/html/html_iframe.asp), which makes grabbing the data more difficult as it's effectively a webpage within a webpage.\n",
    "\n",
    "We are going to change our approach here and automate the use of a web browser to extract the information we want. The [selenium Python package](https://www.simplilearn.com/tutorials/python-tutorial/selenium-with-python#:~:text=Selenium%20with%20Python%20is%20used,skimming%20the%20entire%20site%2C%20etc.) allows us to do this with a variety of browsers, but I am going to use the Google Chrome browser, along with the [Chrome for testing](https://googlechromelabs.github.io/chrome-for-testing/) program.\n",
    "\n",
    "The next code cell imports what we need from selenium, asks it to use the Chrome browser, opens the livestats URL (a Chrome window should pop up if you run this code), switches to the second iframe on the webpage, scrapes the HTML from said iframe, then closes the broswer window."
   ]
  },
  {
   "cell_type": "code",
   "execution_count": 8,
   "id": "d0ab789d-401e-4ef7-9872-20ff40f41660",
   "metadata": {},
   "outputs": [],
   "source": [
    "from selenium import webdriver\n",
    "\n",
    "driver = webdriver.Chrome()\n",
    "page = driver.get(livestats_url)\n",
    "driver.switch_to.frame(1)\n",
    "results_soup = BeautifulSoup(driver.page_source, 'html')\n",
    "driver.close()"
   ]
  },
  {
   "cell_type": "markdown",
   "id": "1057fe3e-b48e-4989-a98c-69891f071944",
   "metadata": {},
   "source": [
    "Let's try extracting any HTML tables again, and see how many we get."
   ]
  },
  {
   "cell_type": "code",
   "execution_count": 9,
   "id": "28271762-79ff-4e96-b357-c337a99a80da",
   "metadata": {},
   "outputs": [
    {
     "data": {
      "text/plain": [
       "1"
      ]
     },
     "execution_count": 9,
     "metadata": {},
     "output_type": "execute_result"
    }
   ],
   "source": [
    "tables = results_soup.find_all('table')\n",
    "len(tables)"
   ]
  },
  {
   "cell_type": "markdown",
   "id": "cbb0d8a0-5513-47eb-a07a-3e32d9f0940a",
   "metadata": {},
   "source": [
    "Excellent! We've managed to extract a table this time. To check it contains the information we want, we can extract the first row from the table and see what it look like."
   ]
  },
  {
   "cell_type": "code",
   "execution_count": 11,
   "id": "55fd9d74-cc6f-4a48-bf53-b179a6f1a467",
   "metadata": {},
   "outputs": [
    {
     "data": {
      "text/plain": [
       "<tr class=\"sp_lsmatch finished spmatcheven\"><td class=\"sp_dtfield\">                                                    27/09/2024                                                                            </td><td class=\"sp_tmfield\">7:30 pm</td><td>Trophy 2024-25</td><td class=\"spteam1 tid178239\"><span class=\"team1name\">Caledonia Gladiators</span><span class=\"logo\"><img src=\"https://images.statsengine.playbyplay.api.geniussports.com/706553f85ba846cfbcae48cf69f1c316T1.png\"/></span></td><td class=\"sp_status\">Final</td><td class=\"spteam2 tid178234\"><span class=\"logo\"><img src=\"https://images.statsengine.playbyplay.api.geniussports.com/516edf4c0fb58d77097883a0cf4966c3T1.png\"/></span><span class=\"team1name\">Manchester Basketball</span></td><td class=\"spscore\"><a href=\"http://www.fibalivestats.com/webcast/SLB/2523184/\" style=\"text-decoration:none;\" target=\"_blank\">99 - 77</a></td></tr>"
      ]
     },
     "execution_count": 11,
     "metadata": {},
     "output_type": "execute_result"
    }
   ],
   "source": [
    "tables[0].find('tr')"
   ]
  },
  {
   "cell_type": "markdown",
   "id": "683e1926-2b56-4777-9d5c-884790869448",
   "metadata": {},
   "source": [
    "This definitely contains what we want \\- it's the result of the Gladiators vs Manchester game from 27th Sept 2024 (Glads won 99-77)."
   ]
  },
  {
   "cell_type": "markdown",
   "id": "015acee1-9641-46dc-95f0-9c245c612762",
   "metadata": {},
   "source": [
    "## Extracting the information we want from the HTML\n",
    "\n",
    "The information we want is held in the object above, but to hold the information we will need to construct a table we can create some Python dictionaries to contain the numbers of wins and losses, and the points for and against."
   ]
  },
  {
   "cell_type": "code",
   "execution_count": 19,
   "id": "877b8715-3632-458b-a83f-d56ab7619ae7",
   "metadata": {},
   "outputs": [],
   "source": [
    "wins = {\"B. Braun Sheffield Sharks\": 0, \"Bristol Flyers\": 0, \"Caledonia Gladiators\": 0, \"Cheshire Phoenix\": 0, \n",
    "        \"Leicester Riders\": 0, \"London Lions\": 0, \"Manchester Basketball\": 0, \"Newcastle Eagles\": 0, \"Surrey 89ers\": 0}\n",
    "\n",
    "losses = {\"B. Braun Sheffield Sharks\": 0, \"Bristol Flyers\": 0, \"Caledonia Gladiators\": 0, \"Cheshire Phoenix\": 0, \n",
    "        \"Leicester Riders\": 0, \"London Lions\": 0, \"Manchester Basketball\": 0, \"Newcastle Eagles\": 0, \"Surrey 89ers\": 0}\n",
    "\n",
    "points_for = {\"B. Braun Sheffield Sharks\": 0, \"Bristol Flyers\": 0, \"Caledonia Gladiators\": 0, \"Cheshire Phoenix\": 0, \n",
    "        \"Leicester Riders\": 0, \"London Lions\": 0, \"Manchester Basketball\": 0, \"Newcastle Eagles\": 0, \"Surrey 89ers\": 0}\n",
    "\n",
    "points_allowed = {\"B. Braun Sheffield Sharks\": 0, \"Bristol Flyers\": 0, \"Caledonia Gladiators\": 0, \"Cheshire Phoenix\": 0, \n",
    "        \"Leicester Riders\": 0, \"London Lions\": 0, \"Manchester Basketball\": 0, \"Newcastle Eagles\": 0, \"Surrey 89ers\": 0}"
   ]
  },
  {
   "cell_type": "markdown",
   "id": "7ac38e56-1ba3-4a90-9c79-ae761f3e812e",
   "metadata": {},
   "source": [
    "Next we will extract all of the table rows, and define a string that we will use to filter only the Trophy results from the full set of games."
   ]
  },
  {
   "cell_type": "code",
   "execution_count": 17,
   "id": "c56c1ae9-01fc-408f-9ecc-6949717263b5",
   "metadata": {},
   "outputs": [],
   "source": [
    "results_rows = tables[0].find_all('tr')\n",
    "trophy_string = \"Trophy 2024-25\""
   ]
  },
  {
   "cell_type": "markdown",
   "id": "f18c723a-0a43-4f0e-9049-130fad99a801",
   "metadata": {},
   "source": [
    "Now it is time to extract and process the results into the dictionary. To do that, we will loop over all of the table rows, check if it was a Trophy game, and grab the information we want."
   ]
  },
  {
   "cell_type": "code",
   "execution_count": 20,
   "id": "6745613e-de12-41ef-bace-06fe1a1973e5",
   "metadata": {},
   "outputs": [],
   "source": [
    "for entry in results_rows:\n",
    "    row_cells = entry.findAll('td')\n",
    "    if row_cells[2].get_text() == trophy_string:\n",
    "        home_team = row_cells[3].get_text()\n",
    "        away_team = row_cells[5].get_text()\n",
    "        score = row_cells[6].get_text()\n",
    "        if score != \"Upcoming\":\n",
    "            score = score.split(\" - \")\n",
    "            home_allowed = int(score[1])\n",
    "            away_allowed = int(score[0])\n",
    "            home_for = away_allowed\n",
    "            away_for = home_allowed\n",
    "            points_allowed[home_team] = points_allowed[home_team] + home_allowed\n",
    "            points_allowed[away_team] = points_allowed[away_team] + away_allowed\n",
    "            points_for[home_team] = points_for[home_team] + home_for\n",
    "            points_for[away_team] = points_for[away_team] + away_for\n",
    "            if home_for > away_for:\n",
    "                # Home team won\n",
    "                wins[home_team] = wins[home_team] + 1\n",
    "                losses[away_team] = losses[away_team] + 1\n",
    "            else:\n",
    "                losses[home_team] = losses[home_team] + 1\n",
    "                wins[away_team] = wins[away_team] + 1"
   ]
  },
  {
   "cell_type": "markdown",
   "id": "85321550-5209-43ce-af0f-7b029f57ddba",
   "metadata": {},
   "source": [
    "Let's have a quick peek inside the \"wins\" dictionary to check if we have something sensible."
   ]
  },
  {
   "cell_type": "code",
   "execution_count": 21,
   "id": "3e2d7327-c932-4ac7-a7b8-19df1ed7345b",
   "metadata": {},
   "outputs": [
    {
     "data": {
      "text/plain": [
       "{'B. Braun Sheffield Sharks': 4,\n",
       " 'Bristol Flyers': 3,\n",
       " 'Caledonia Gladiators': 2,\n",
       " 'Cheshire Phoenix': 6,\n",
       " 'Leicester Riders': 5,\n",
       " 'London Lions': 2,\n",
       " 'Manchester Basketball': 0,\n",
       " 'Newcastle Eagles': 5,\n",
       " 'Surrey 89ers': 1}"
      ]
     },
     "execution_count": 21,
     "metadata": {},
     "output_type": "execute_result"
    }
   ],
   "source": [
    "wins"
   ]
  },
  {
   "cell_type": "markdown",
   "id": "ffd6494f-071b-448f-a107-48341ed2298b",
   "metadata": {},
   "source": [
    "Now that we've got the data, it's time to place it into lists and create a dataframe. Let's start by importing pandas."
   ]
  },
  {
   "cell_type": "code",
   "execution_count": 22,
   "id": "2533b120-f5be-4957-a558-65e8466afab3",
   "metadata": {},
   "outputs": [],
   "source": [
    "import pandas as pd"
   ]
  },
  {
   "cell_type": "markdown",
   "id": "fe69c5ac-e06f-40c1-ac54-b5a384d2a612",
   "metadata": {},
   "source": [
    "Then the lists and dataframe"
   ]
  },
  {
   "cell_type": "code",
   "execution_count": 24,
   "id": "2813f191-9964-4438-923e-accb3a7be00b",
   "metadata": {},
   "outputs": [],
   "source": [
    "teams = list(wins.keys())\n",
    "standings_df = pd.DataFrame()\n",
    "standings_df[\"Team\"] = teams\n",
    "\n",
    "wins_list = list(wins.values())\n",
    "losses_list = list(losses.values())\n",
    "points_for_list = list(points_for.values())\n",
    "points_allowed_list = list(points_allowed.values())\n",
    "\n",
    "standings_df[\"W\"], standings_df[\"L\"], standings_df[\"PPG\"], standings_df[\"OPPG\"]  = [wins_list, losses_list, points_for_list, \n",
    "                                                                                     points_allowed_list]"
   ]
  },
  {
   "cell_type": "markdown",
   "id": "7b21cf16-6d31-41f8-96ef-ad829e878361",
   "metadata": {},
   "source": [
    "We can take a look at the information that's gone into the dataframe."
   ]
  },
  {
   "cell_type": "code",
   "execution_count": 25,
   "id": "14deef62-b5c9-4a90-be83-ffe388545094",
   "metadata": {},
   "outputs": [
    {
     "data": {
      "text/html": [
       "<div>\n",
       "<style scoped>\n",
       "    .dataframe tbody tr th:only-of-type {\n",
       "        vertical-align: middle;\n",
       "    }\n",
       "\n",
       "    .dataframe tbody tr th {\n",
       "        vertical-align: top;\n",
       "    }\n",
       "\n",
       "    .dataframe thead th {\n",
       "        text-align: right;\n",
       "    }\n",
       "</style>\n",
       "<table border=\"1\" class=\"dataframe\">\n",
       "  <thead>\n",
       "    <tr style=\"text-align: right;\">\n",
       "      <th></th>\n",
       "      <th>Team</th>\n",
       "      <th>W</th>\n",
       "      <th>L</th>\n",
       "      <th>PPG</th>\n",
       "      <th>OPPG</th>\n",
       "    </tr>\n",
       "  </thead>\n",
       "  <tbody>\n",
       "    <tr>\n",
       "      <th>0</th>\n",
       "      <td>B. Braun Sheffield Sharks</td>\n",
       "      <td>4</td>\n",
       "      <td>3</td>\n",
       "      <td>603</td>\n",
       "      <td>578</td>\n",
       "    </tr>\n",
       "    <tr>\n",
       "      <th>1</th>\n",
       "      <td>Bristol Flyers</td>\n",
       "      <td>3</td>\n",
       "      <td>3</td>\n",
       "      <td>521</td>\n",
       "      <td>505</td>\n",
       "    </tr>\n",
       "    <tr>\n",
       "      <th>2</th>\n",
       "      <td>Caledonia Gladiators</td>\n",
       "      <td>2</td>\n",
       "      <td>5</td>\n",
       "      <td>573</td>\n",
       "      <td>601</td>\n",
       "    </tr>\n",
       "    <tr>\n",
       "      <th>3</th>\n",
       "      <td>Cheshire Phoenix</td>\n",
       "      <td>6</td>\n",
       "      <td>1</td>\n",
       "      <td>664</td>\n",
       "      <td>570</td>\n",
       "    </tr>\n",
       "    <tr>\n",
       "      <th>4</th>\n",
       "      <td>Leicester Riders</td>\n",
       "      <td>5</td>\n",
       "      <td>0</td>\n",
       "      <td>461</td>\n",
       "      <td>387</td>\n",
       "    </tr>\n",
       "    <tr>\n",
       "      <th>5</th>\n",
       "      <td>London Lions</td>\n",
       "      <td>2</td>\n",
       "      <td>3</td>\n",
       "      <td>393</td>\n",
       "      <td>418</td>\n",
       "    </tr>\n",
       "    <tr>\n",
       "      <th>6</th>\n",
       "      <td>Manchester Basketball</td>\n",
       "      <td>0</td>\n",
       "      <td>6</td>\n",
       "      <td>468</td>\n",
       "      <td>564</td>\n",
       "    </tr>\n",
       "    <tr>\n",
       "      <th>7</th>\n",
       "      <td>Newcastle Eagles</td>\n",
       "      <td>5</td>\n",
       "      <td>2</td>\n",
       "      <td>557</td>\n",
       "      <td>552</td>\n",
       "    </tr>\n",
       "    <tr>\n",
       "      <th>8</th>\n",
       "      <td>Surrey 89ers</td>\n",
       "      <td>1</td>\n",
       "      <td>5</td>\n",
       "      <td>455</td>\n",
       "      <td>520</td>\n",
       "    </tr>\n",
       "  </tbody>\n",
       "</table>\n",
       "</div>"
      ],
      "text/plain": [
       "                        Team  W  L  PPG  OPPG\n",
       "0  B. Braun Sheffield Sharks  4  3  603   578\n",
       "1             Bristol Flyers  3  3  521   505\n",
       "2       Caledonia Gladiators  2  5  573   601\n",
       "3           Cheshire Phoenix  6  1  664   570\n",
       "4           Leicester Riders  5  0  461   387\n",
       "5               London Lions  2  3  393   418\n",
       "6      Manchester Basketball  0  6  468   564\n",
       "7           Newcastle Eagles  5  2  557   552\n",
       "8               Surrey 89ers  1  5  455   520"
      ]
     },
     "execution_count": 25,
     "metadata": {},
     "output_type": "execute_result"
    }
   ],
   "source": [
    "standings_df"
   ]
  },
  {
   "cell_type": "markdown",
   "id": "80a81903-2099-448e-b8fa-09b6539a1a81",
   "metadata": {},
   "source": [
    "## Create a table based on the results\n",
    "\n",
    "Use the information from the dataframe to calculate some new columns: number of games played (GP), the difference in points scored/points allowed (Diff), a number of points based on 2 points for a win (fictional for the Trophy competition), and a percentage of games won (Win%). "
   ]
  },
  {
   "cell_type": "code",
   "execution_count": 26,
   "id": "1218e56e-7d4f-4728-b5f1-75cc1afb8d66",
   "metadata": {},
   "outputs": [],
   "source": [
    "standings_df[\"GP\"] = standings_df[\"W\"] + standings_df[\"L\"]\n",
    "standings_df[\"Diff\"] = standings_df[\"PPG\"] - standings_df[\"OPPG\"]\n",
    "standings_df[\"Pts\"] = standings_df[\"W\"] * 2\n",
    "standings_df[\"Win%\"] = standings_df[\"W\"] / standings_df[\"GP\"]"
   ]
  },
  {
   "cell_type": "markdown",
   "id": "21f2d73f-527f-46fa-b9b0-e4e737e9c826",
   "metadata": {},
   "source": [
    "The NBA often use a \"games back\" (GB) column in their standings tables, so we can define a series of functions to calculate it."
   ]
  },
  {
   "cell_type": "code",
   "execution_count": 28,
   "id": "d3107691-5af1-4038-8e73-dd584eaca75d",
   "metadata": {},
   "outputs": [],
   "source": [
    "def w_games_behind(wins, wins_ref):\n",
    "    w_diff = wins_ref - wins\n",
    "    return w_diff/2\n",
    "\n",
    "def l_games_behind(losses, losses_ref):\n",
    "    l_diff = losses - losses_ref\n",
    "    return l_diff/2\n",
    "\n",
    "def games_back(w_games, l_games):\n",
    "    g_back = w_games + l_games\n",
    "    return g_back"
   ]
  },
  {
   "cell_type": "markdown",
   "id": "e534c563-af30-4746-b97a-2c8731a27c8e",
   "metadata": {},
   "source": [
    "We can then calculate how many \"games back\" each team, is after working out which team has the best Win%."
   ]
  },
  {
   "cell_type": "code",
   "execution_count": 30,
   "id": "a689156d-ec5e-4735-85b3-2b2129e86d6f",
   "metadata": {},
   "outputs": [],
   "source": [
    "best_win_per = standings_df['Win%'].idxmax()\n",
    "wins_ref = standings_df.iloc[best_win_per]['W']\n",
    "losses_ref = standings_df.iloc[best_win_per]['L']\n",
    "standings_df['wgb'] = standings_df.apply(lambda x: w_games_behind(x['W'], wins_ref), axis=1)\n",
    "standings_df['lgb'] = standings_df.apply(lambda x: l_games_behind(x['L'], losses_ref), axis=1)\n",
    "standings_df['GB'] = standings_df.apply(lambda x: games_back(x['wgb'], x['lgb']), axis=1)\n",
    "# Replace the 0.0 games back for the top team with --\n",
    "standings_df['GB'].replace([0.0], ['--'], inplace=True)"
   ]
  },
  {
   "cell_type": "markdown",
   "id": "b118939a-1be0-44a2-8458-53570879021c",
   "metadata": {},
   "source": [
    "Calling the dataframe will show us what data we have so far."
   ]
  },
  {
   "cell_type": "code",
   "execution_count": 31,
   "id": "dfdcb2dd-5e13-44e0-bb85-163e6c549ffe",
   "metadata": {},
   "outputs": [
    {
     "data": {
      "text/html": [
       "<div>\n",
       "<style scoped>\n",
       "    .dataframe tbody tr th:only-of-type {\n",
       "        vertical-align: middle;\n",
       "    }\n",
       "\n",
       "    .dataframe tbody tr th {\n",
       "        vertical-align: top;\n",
       "    }\n",
       "\n",
       "    .dataframe thead th {\n",
       "        text-align: right;\n",
       "    }\n",
       "</style>\n",
       "<table border=\"1\" class=\"dataframe\">\n",
       "  <thead>\n",
       "    <tr style=\"text-align: right;\">\n",
       "      <th></th>\n",
       "      <th>Team</th>\n",
       "      <th>W</th>\n",
       "      <th>L</th>\n",
       "      <th>PPG</th>\n",
       "      <th>OPPG</th>\n",
       "      <th>GP</th>\n",
       "      <th>Diff</th>\n",
       "      <th>Pts</th>\n",
       "      <th>Win%</th>\n",
       "      <th>wgb</th>\n",
       "      <th>lgb</th>\n",
       "      <th>GB</th>\n",
       "    </tr>\n",
       "  </thead>\n",
       "  <tbody>\n",
       "    <tr>\n",
       "      <th>0</th>\n",
       "      <td>B. Braun Sheffield Sharks</td>\n",
       "      <td>4</td>\n",
       "      <td>3</td>\n",
       "      <td>603</td>\n",
       "      <td>578</td>\n",
       "      <td>7</td>\n",
       "      <td>25</td>\n",
       "      <td>8</td>\n",
       "      <td>0.571429</td>\n",
       "      <td>0.5</td>\n",
       "      <td>1.5</td>\n",
       "      <td>2.0</td>\n",
       "    </tr>\n",
       "    <tr>\n",
       "      <th>1</th>\n",
       "      <td>Bristol Flyers</td>\n",
       "      <td>3</td>\n",
       "      <td>3</td>\n",
       "      <td>521</td>\n",
       "      <td>505</td>\n",
       "      <td>6</td>\n",
       "      <td>16</td>\n",
       "      <td>6</td>\n",
       "      <td>0.500000</td>\n",
       "      <td>1.0</td>\n",
       "      <td>1.5</td>\n",
       "      <td>2.5</td>\n",
       "    </tr>\n",
       "    <tr>\n",
       "      <th>2</th>\n",
       "      <td>Caledonia Gladiators</td>\n",
       "      <td>2</td>\n",
       "      <td>5</td>\n",
       "      <td>573</td>\n",
       "      <td>601</td>\n",
       "      <td>7</td>\n",
       "      <td>-28</td>\n",
       "      <td>4</td>\n",
       "      <td>0.285714</td>\n",
       "      <td>1.5</td>\n",
       "      <td>2.5</td>\n",
       "      <td>4.0</td>\n",
       "    </tr>\n",
       "    <tr>\n",
       "      <th>3</th>\n",
       "      <td>Cheshire Phoenix</td>\n",
       "      <td>6</td>\n",
       "      <td>1</td>\n",
       "      <td>664</td>\n",
       "      <td>570</td>\n",
       "      <td>7</td>\n",
       "      <td>94</td>\n",
       "      <td>12</td>\n",
       "      <td>0.857143</td>\n",
       "      <td>-0.5</td>\n",
       "      <td>0.5</td>\n",
       "      <td>--</td>\n",
       "    </tr>\n",
       "    <tr>\n",
       "      <th>4</th>\n",
       "      <td>Leicester Riders</td>\n",
       "      <td>5</td>\n",
       "      <td>0</td>\n",
       "      <td>461</td>\n",
       "      <td>387</td>\n",
       "      <td>5</td>\n",
       "      <td>74</td>\n",
       "      <td>10</td>\n",
       "      <td>1.000000</td>\n",
       "      <td>0.0</td>\n",
       "      <td>0.0</td>\n",
       "      <td>--</td>\n",
       "    </tr>\n",
       "    <tr>\n",
       "      <th>5</th>\n",
       "      <td>London Lions</td>\n",
       "      <td>2</td>\n",
       "      <td>3</td>\n",
       "      <td>393</td>\n",
       "      <td>418</td>\n",
       "      <td>5</td>\n",
       "      <td>-25</td>\n",
       "      <td>4</td>\n",
       "      <td>0.400000</td>\n",
       "      <td>1.5</td>\n",
       "      <td>1.5</td>\n",
       "      <td>3.0</td>\n",
       "    </tr>\n",
       "    <tr>\n",
       "      <th>6</th>\n",
       "      <td>Manchester Basketball</td>\n",
       "      <td>0</td>\n",
       "      <td>6</td>\n",
       "      <td>468</td>\n",
       "      <td>564</td>\n",
       "      <td>6</td>\n",
       "      <td>-96</td>\n",
       "      <td>0</td>\n",
       "      <td>0.000000</td>\n",
       "      <td>2.5</td>\n",
       "      <td>3.0</td>\n",
       "      <td>5.5</td>\n",
       "    </tr>\n",
       "    <tr>\n",
       "      <th>7</th>\n",
       "      <td>Newcastle Eagles</td>\n",
       "      <td>5</td>\n",
       "      <td>2</td>\n",
       "      <td>557</td>\n",
       "      <td>552</td>\n",
       "      <td>7</td>\n",
       "      <td>5</td>\n",
       "      <td>10</td>\n",
       "      <td>0.714286</td>\n",
       "      <td>0.0</td>\n",
       "      <td>1.0</td>\n",
       "      <td>1.0</td>\n",
       "    </tr>\n",
       "    <tr>\n",
       "      <th>8</th>\n",
       "      <td>Surrey 89ers</td>\n",
       "      <td>1</td>\n",
       "      <td>5</td>\n",
       "      <td>455</td>\n",
       "      <td>520</td>\n",
       "      <td>6</td>\n",
       "      <td>-65</td>\n",
       "      <td>2</td>\n",
       "      <td>0.166667</td>\n",
       "      <td>2.0</td>\n",
       "      <td>2.5</td>\n",
       "      <td>4.5</td>\n",
       "    </tr>\n",
       "  </tbody>\n",
       "</table>\n",
       "</div>"
      ],
      "text/plain": [
       "                        Team  W  L  PPG  OPPG  GP  Diff  Pts      Win%  wgb  \\\n",
       "0  B. Braun Sheffield Sharks  4  3  603   578   7    25    8  0.571429  0.5   \n",
       "1             Bristol Flyers  3  3  521   505   6    16    6  0.500000  1.0   \n",
       "2       Caledonia Gladiators  2  5  573   601   7   -28    4  0.285714  1.5   \n",
       "3           Cheshire Phoenix  6  1  664   570   7    94   12  0.857143 -0.5   \n",
       "4           Leicester Riders  5  0  461   387   5    74   10  1.000000  0.0   \n",
       "5               London Lions  2  3  393   418   5   -25    4  0.400000  1.5   \n",
       "6      Manchester Basketball  0  6  468   564   6   -96    0  0.000000  2.5   \n",
       "7           Newcastle Eagles  5  2  557   552   7     5   10  0.714286  0.0   \n",
       "8               Surrey 89ers  1  5  455   520   6   -65    2  0.166667  2.0   \n",
       "\n",
       "   lgb   GB  \n",
       "0  1.5  2.0  \n",
       "1  1.5  2.5  \n",
       "2  2.5  4.0  \n",
       "3  0.5   --  \n",
       "4  0.0   --  \n",
       "5  1.5  3.0  \n",
       "6  3.0  5.5  \n",
       "7  1.0  1.0  \n",
       "8  2.5  4.5  "
      ]
     },
     "execution_count": 31,
     "metadata": {},
     "output_type": "execute_result"
    }
   ],
   "source": [
    "standings_df"
   ]
  },
  {
   "cell_type": "markdown",
   "id": "54c570f8-9490-472f-a3a3-8042fffc18fa",
   "metadata": {},
   "source": [
    "It's now time to turn this into a nice looking \"league\" table. We will define some functions to add colour and bold font based on whether a value is greater than or less than a threshold."
   ]
  },
  {
   "cell_type": "code",
   "execution_count": 32,
   "id": "04ab8544-4558-4675-90a9-1257ec7f237b",
   "metadata": {},
   "outputs": [],
   "source": [
    "def colour_threshold_lessthan(value,threshold,colour = 'red'):\n",
    "    if value < threshold:\n",
    "        return f'color: {colour}'\n",
    "    else:\n",
    "        return ''\n",
    "    \n",
    "def colour_threshold_morethan(value,threshold,colour = 'green'):\n",
    "    if value > threshold:\n",
    "        return f'color: {colour}'\n",
    "    else:\n",
    "        return ''\n",
    "\n",
    "# functions to change font weight based on a threshold    \n",
    "def weight_threshold_lessthan(value,threshold):\n",
    "    if value < threshold:\n",
    "        return f'font-weight: bold'\n",
    "    else:\n",
    "        return ''\n",
    "\n",
    "def weight_threshold_morethan(value,threshold):\n",
    "    if value > threshold:\n",
    "        return f'font-weight: bold'\n",
    "    else:\n",
    "        return ''"
   ]
  },
  {
   "cell_type": "markdown",
   "id": "0c042fc2-0763-41b4-8c43-1af4f7724679",
   "metadata": {},
   "source": [
    "We will sort the table so that the team with the highest Win% goes first, then lowest number of games back, then use Diff to sort any teams that would be tied.\n",
    "\n",
    "We will only print a subset of the stats that are contained in the dataframe, and apply some formating."
   ]
  },
  {
   "cell_type": "code",
   "execution_count": 36,
   "id": "fa8fc60f-5c45-4bfe-87d4-989b01de0dc8",
   "metadata": {},
   "outputs": [
    {
     "data": {
      "text/html": [
       "<style type=\"text/css\">\n",
       "#T_685e9 caption {\n",
       "  text-align: left;\n",
       "  font-size: 18px;\n",
       "  font-weight: bold;\n",
       "}\n",
       "#T_685e9_row0_col6, #T_685e9_row1_col6, #T_685e9_row2_col6, #T_685e9_row3_col6, #T_685e9_row4_col6 {\n",
       "  color: green;\n",
       "  font-weight: bold;\n",
       "}\n",
       "#T_685e9_row5_col6, #T_685e9_row6_col6, #T_685e9_row7_col6, #T_685e9_row8_col6 {\n",
       "  color: red;\n",
       "  font-weight: bold;\n",
       "}\n",
       "</style>\n",
       "<table id=\"T_685e9\">\n",
       "  <caption>SLB ficticious Trophy standings</caption>\n",
       "  <thead>\n",
       "    <tr>\n",
       "      <th id=\"T_685e9_level0_col0\" class=\"col_heading level0 col0\" >Team</th>\n",
       "      <th id=\"T_685e9_level0_col1\" class=\"col_heading level0 col1\" >GP</th>\n",
       "      <th id=\"T_685e9_level0_col2\" class=\"col_heading level0 col2\" >W</th>\n",
       "      <th id=\"T_685e9_level0_col3\" class=\"col_heading level0 col3\" >L</th>\n",
       "      <th id=\"T_685e9_level0_col4\" class=\"col_heading level0 col4\" >PPG</th>\n",
       "      <th id=\"T_685e9_level0_col5\" class=\"col_heading level0 col5\" >OPPG</th>\n",
       "      <th id=\"T_685e9_level0_col6\" class=\"col_heading level0 col6\" >Diff</th>\n",
       "      <th id=\"T_685e9_level0_col7\" class=\"col_heading level0 col7\" >Win%</th>\n",
       "      <th id=\"T_685e9_level0_col8\" class=\"col_heading level0 col8\" >GB</th>\n",
       "    </tr>\n",
       "  </thead>\n",
       "  <tbody>\n",
       "    <tr>\n",
       "      <td id=\"T_685e9_row0_col0\" class=\"data row0 col0\" >Leicester Riders</td>\n",
       "      <td id=\"T_685e9_row0_col1\" class=\"data row0 col1\" >5</td>\n",
       "      <td id=\"T_685e9_row0_col2\" class=\"data row0 col2\" >5</td>\n",
       "      <td id=\"T_685e9_row0_col3\" class=\"data row0 col3\" >0</td>\n",
       "      <td id=\"T_685e9_row0_col4\" class=\"data row0 col4\" >461</td>\n",
       "      <td id=\"T_685e9_row0_col5\" class=\"data row0 col5\" >387</td>\n",
       "      <td id=\"T_685e9_row0_col6\" class=\"data row0 col6\" >74</td>\n",
       "      <td id=\"T_685e9_row0_col7\" class=\"data row0 col7\" >1.0</td>\n",
       "      <td id=\"T_685e9_row0_col8\" class=\"data row0 col8\" >--</td>\n",
       "    </tr>\n",
       "    <tr>\n",
       "      <td id=\"T_685e9_row1_col0\" class=\"data row1 col0\" >Cheshire Phoenix</td>\n",
       "      <td id=\"T_685e9_row1_col1\" class=\"data row1 col1\" >7</td>\n",
       "      <td id=\"T_685e9_row1_col2\" class=\"data row1 col2\" >6</td>\n",
       "      <td id=\"T_685e9_row1_col3\" class=\"data row1 col3\" >1</td>\n",
       "      <td id=\"T_685e9_row1_col4\" class=\"data row1 col4\" >664</td>\n",
       "      <td id=\"T_685e9_row1_col5\" class=\"data row1 col5\" >570</td>\n",
       "      <td id=\"T_685e9_row1_col6\" class=\"data row1 col6\" >94</td>\n",
       "      <td id=\"T_685e9_row1_col7\" class=\"data row1 col7\" >0.86</td>\n",
       "      <td id=\"T_685e9_row1_col8\" class=\"data row1 col8\" >--</td>\n",
       "    </tr>\n",
       "    <tr>\n",
       "      <td id=\"T_685e9_row2_col0\" class=\"data row2 col0\" >Newcastle Eagles</td>\n",
       "      <td id=\"T_685e9_row2_col1\" class=\"data row2 col1\" >7</td>\n",
       "      <td id=\"T_685e9_row2_col2\" class=\"data row2 col2\" >5</td>\n",
       "      <td id=\"T_685e9_row2_col3\" class=\"data row2 col3\" >2</td>\n",
       "      <td id=\"T_685e9_row2_col4\" class=\"data row2 col4\" >557</td>\n",
       "      <td id=\"T_685e9_row2_col5\" class=\"data row2 col5\" >552</td>\n",
       "      <td id=\"T_685e9_row2_col6\" class=\"data row2 col6\" >5</td>\n",
       "      <td id=\"T_685e9_row2_col7\" class=\"data row2 col7\" >0.71</td>\n",
       "      <td id=\"T_685e9_row2_col8\" class=\"data row2 col8\" >1.000000</td>\n",
       "    </tr>\n",
       "    <tr>\n",
       "      <td id=\"T_685e9_row3_col0\" class=\"data row3 col0\" >B. Braun Sheffield Sharks</td>\n",
       "      <td id=\"T_685e9_row3_col1\" class=\"data row3 col1\" >7</td>\n",
       "      <td id=\"T_685e9_row3_col2\" class=\"data row3 col2\" >4</td>\n",
       "      <td id=\"T_685e9_row3_col3\" class=\"data row3 col3\" >3</td>\n",
       "      <td id=\"T_685e9_row3_col4\" class=\"data row3 col4\" >603</td>\n",
       "      <td id=\"T_685e9_row3_col5\" class=\"data row3 col5\" >578</td>\n",
       "      <td id=\"T_685e9_row3_col6\" class=\"data row3 col6\" >25</td>\n",
       "      <td id=\"T_685e9_row3_col7\" class=\"data row3 col7\" >0.57</td>\n",
       "      <td id=\"T_685e9_row3_col8\" class=\"data row3 col8\" >2.000000</td>\n",
       "    </tr>\n",
       "    <tr>\n",
       "      <td id=\"T_685e9_row4_col0\" class=\"data row4 col0\" >Bristol Flyers</td>\n",
       "      <td id=\"T_685e9_row4_col1\" class=\"data row4 col1\" >6</td>\n",
       "      <td id=\"T_685e9_row4_col2\" class=\"data row4 col2\" >3</td>\n",
       "      <td id=\"T_685e9_row4_col3\" class=\"data row4 col3\" >3</td>\n",
       "      <td id=\"T_685e9_row4_col4\" class=\"data row4 col4\" >521</td>\n",
       "      <td id=\"T_685e9_row4_col5\" class=\"data row4 col5\" >505</td>\n",
       "      <td id=\"T_685e9_row4_col6\" class=\"data row4 col6\" >16</td>\n",
       "      <td id=\"T_685e9_row4_col7\" class=\"data row4 col7\" >0.5</td>\n",
       "      <td id=\"T_685e9_row4_col8\" class=\"data row4 col8\" >2.500000</td>\n",
       "    </tr>\n",
       "    <tr>\n",
       "      <td id=\"T_685e9_row5_col0\" class=\"data row5 col0\" >London Lions</td>\n",
       "      <td id=\"T_685e9_row5_col1\" class=\"data row5 col1\" >5</td>\n",
       "      <td id=\"T_685e9_row5_col2\" class=\"data row5 col2\" >2</td>\n",
       "      <td id=\"T_685e9_row5_col3\" class=\"data row5 col3\" >3</td>\n",
       "      <td id=\"T_685e9_row5_col4\" class=\"data row5 col4\" >393</td>\n",
       "      <td id=\"T_685e9_row5_col5\" class=\"data row5 col5\" >418</td>\n",
       "      <td id=\"T_685e9_row5_col6\" class=\"data row5 col6\" >-25</td>\n",
       "      <td id=\"T_685e9_row5_col7\" class=\"data row5 col7\" >0.4</td>\n",
       "      <td id=\"T_685e9_row5_col8\" class=\"data row5 col8\" >3.000000</td>\n",
       "    </tr>\n",
       "    <tr>\n",
       "      <td id=\"T_685e9_row6_col0\" class=\"data row6 col0\" >Caledonia Gladiators</td>\n",
       "      <td id=\"T_685e9_row6_col1\" class=\"data row6 col1\" >7</td>\n",
       "      <td id=\"T_685e9_row6_col2\" class=\"data row6 col2\" >2</td>\n",
       "      <td id=\"T_685e9_row6_col3\" class=\"data row6 col3\" >5</td>\n",
       "      <td id=\"T_685e9_row6_col4\" class=\"data row6 col4\" >573</td>\n",
       "      <td id=\"T_685e9_row6_col5\" class=\"data row6 col5\" >601</td>\n",
       "      <td id=\"T_685e9_row6_col6\" class=\"data row6 col6\" >-28</td>\n",
       "      <td id=\"T_685e9_row6_col7\" class=\"data row6 col7\" >0.29</td>\n",
       "      <td id=\"T_685e9_row6_col8\" class=\"data row6 col8\" >4.000000</td>\n",
       "    </tr>\n",
       "    <tr>\n",
       "      <td id=\"T_685e9_row7_col0\" class=\"data row7 col0\" >Surrey 89ers</td>\n",
       "      <td id=\"T_685e9_row7_col1\" class=\"data row7 col1\" >6</td>\n",
       "      <td id=\"T_685e9_row7_col2\" class=\"data row7 col2\" >1</td>\n",
       "      <td id=\"T_685e9_row7_col3\" class=\"data row7 col3\" >5</td>\n",
       "      <td id=\"T_685e9_row7_col4\" class=\"data row7 col4\" >455</td>\n",
       "      <td id=\"T_685e9_row7_col5\" class=\"data row7 col5\" >520</td>\n",
       "      <td id=\"T_685e9_row7_col6\" class=\"data row7 col6\" >-65</td>\n",
       "      <td id=\"T_685e9_row7_col7\" class=\"data row7 col7\" >0.17</td>\n",
       "      <td id=\"T_685e9_row7_col8\" class=\"data row7 col8\" >4.500000</td>\n",
       "    </tr>\n",
       "    <tr>\n",
       "      <td id=\"T_685e9_row8_col0\" class=\"data row8 col0\" >Manchester Basketball</td>\n",
       "      <td id=\"T_685e9_row8_col1\" class=\"data row8 col1\" >6</td>\n",
       "      <td id=\"T_685e9_row8_col2\" class=\"data row8 col2\" >0</td>\n",
       "      <td id=\"T_685e9_row8_col3\" class=\"data row8 col3\" >6</td>\n",
       "      <td id=\"T_685e9_row8_col4\" class=\"data row8 col4\" >468</td>\n",
       "      <td id=\"T_685e9_row8_col5\" class=\"data row8 col5\" >564</td>\n",
       "      <td id=\"T_685e9_row8_col6\" class=\"data row8 col6\" >-96</td>\n",
       "      <td id=\"T_685e9_row8_col7\" class=\"data row8 col7\" >0.0</td>\n",
       "      <td id=\"T_685e9_row8_col8\" class=\"data row8 col8\" >5.500000</td>\n",
       "    </tr>\n",
       "  </tbody>\n",
       "</table>\n"
      ],
      "text/plain": [
       "<pandas.io.formats.style.Styler at 0x158589190>"
      ]
     },
     "execution_count": 36,
     "metadata": {},
     "output_type": "execute_result"
    }
   ],
   "source": [
    "standings_df = standings_df.sort_values(by=[\"Win%\", \"GB\", \"Diff\"], ascending=[False, True, False])\n",
    "standings_df = standings_df[[\"Team\", \"GP\", \"W\", \"L\", \"PPG\", \"OPPG\", \"Diff\", \"Win%\", \"GB\"]]\n",
    "standings_df.style.format({'Win%':'{:.2}'}).set_caption('SLB ficticious Trophy standings').set_table_styles([{\n",
    "    'selector': 'caption',\n",
    "    'props': [\n",
    "        ('text-align', 'left'),\n",
    "        ('font-size', '18px'),\n",
    "        ('font-weight', 'bold')\n",
    "    ]\n",
    "}]).map(colour_threshold_lessthan,threshold = 0,subset = ['Diff'])\\\n",
    ".map(weight_threshold_lessthan,threshold = 0,subset = ['Diff'])\\\n",
    ".map(colour_threshold_morethan,threshold = 0,subset = ['Diff'])\\\n",
    ".map(weight_threshold_morethan,threshold = 0,subset = ['Diff'])\\\n",
    ".hide(axis=\"index\")"
   ]
  },
  {
   "cell_type": "markdown",
   "id": "5839018a-226f-4d61-9282-b748db0731d9",
   "metadata": {},
   "source": [
    "As a summary, in this Chapter we have used automated control of a web browser to extract HTML from a complicated website, processed the data into a dataframe, then produced a league standings table using some stats that we calculated based on game results."
   ]
  },
  {
   "cell_type": "markdown",
   "id": "2bb9b0ed-0471-414c-b783-2b300b108902",
   "metadata": {},
   "source": [
    "### Exercises\n",
    "\n",
    "To extend this, you could:\n",
    "1. Modify the code to extract the data on a different set of games, for example, the SLB Championship.\n",
    "2. Produce a different league table, which shows other sets of stats and is based on achieving two points for each game won."
   ]
  },
  {
   "cell_type": "code",
   "execution_count": null,
   "id": "214c41b0-5cd6-45fe-91f6-193657eb047b",
   "metadata": {},
   "outputs": [],
   "source": []
  }
 ],
 "metadata": {
  "kernelspec": {
   "display_name": "Python 3 (ipykernel)",
   "language": "python",
   "name": "python3"
  },
  "language_info": {
   "codemirror_mode": {
    "name": "ipython",
    "version": 3
   },
   "file_extension": ".py",
   "mimetype": "text/x-python",
   "name": "python",
   "nbconvert_exporter": "python",
   "pygments_lexer": "ipython3",
   "version": "3.12.1"
  }
 },
 "nbformat": 4,
 "nbformat_minor": 5
}
