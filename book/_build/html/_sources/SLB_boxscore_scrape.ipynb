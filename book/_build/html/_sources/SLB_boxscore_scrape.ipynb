{
 "cells": [
  {
   "cell_type": "markdown",
   "id": "2e9ca683-fa17-404a-8fd0-6b9d441a5121",
   "metadata": {},
   "source": [
    "# SLB boxscore data scrape\n",
    "\n",
    "In this Chapter our aim is to produce comma-separated values files containing the box scores for games that have been played in the Women's Super League Basketball. It will be conducted in two main steps:\n",
    "1. Scrape the data we need to access the web page for each game's box score.\n",
    "2. Scrape the box score data for each game and save it as a CSV.\n",
    "\n",
    "As we are accessing data from Javascript heavy websites we will use the selenium package to automate control of a web browser. You can find more information on this in the Chapter on [Scraping Javascript heavy websites](JavascriptScrape.ipynb). If you have not used selenium with Chrome before, you will probably need to download and install [Chrome for Testing](https://googlechromelabs.github.io/chrome-for-testing/).\n",
    "\n",
    "We will need to run the same process for each game in terms of scraping the boxscores, so we will define Python functions that we can call repeatedly."
   ]
  },
  {
   "cell_type": "markdown",
   "id": "7b4f5a50-1c51-44b3-94d4-72f446e5343f",
   "metadata": {},
   "source": [
    "## Scraping the URL data we need\n",
    "\n",
    "The Women's Super League Basketball website has a [livestats page](https://www.superleaguebasketballw.co.uk/livestats/) that contains all of the game final scores (and current scores for any games in progress). There is also a link to more information for each game, and it is those links that we are trying to obtain.\n",
    "\n",
    "As usual, the first thing we will do is import the Python libraries and packages that we will need."
   ]
  },
  {
   "cell_type": "code",
   "execution_count": 1,
   "id": "4302533f-5673-4f9c-a406-40a964d77e83",
   "metadata": {},
   "outputs": [],
   "source": [
    "from datetime import datetime \n",
    "from pathlib import Path \n",
    "import requests \n",
    "import time \n",
    "import pandas as pd \n",
    "import numpy as np \n",
    "import re\n",
    "from bs4 import BeautifulSoup\n",
    "from selenium import webdriver"
   ]
  },
  {
   "cell_type": "markdown",
   "id": "c30bcb08-121d-40a4-bac8-51a55b67f1fb",
   "metadata": {},
   "source": [
    "The next code cell opens the livestats URL using the Chrome webbrowser (a new window should open if you run the code), the necessary HTML is placed into \"soup\", and the browser window should automatically close."
   ]
  },
  {
   "cell_type": "code",
   "execution_count": 2,
   "id": "175fa1f8-b050-4afb-b85a-b1204a578a6a",
   "metadata": {},
   "outputs": [],
   "source": [
    "livestats_url = \"https://www.superleaguebasketballw.co.uk/livestats/\"\n",
    "driver = webdriver.Chrome()\n",
    "page = driver.get(livestats_url)\n",
    "driver.switch_to.frame(1)\n",
    "results_soup = BeautifulSoup(driver.page_source, 'html')\n",
    "driver.close()"
   ]
  },
  {
   "cell_type": "markdown",
   "id": "8d945af3-f01c-40b0-bf71-fdbdd3de7e43",
   "metadata": {},
   "source": [
    "All of the pertinent information is held in a HTML table (if necessary, you can download and inspect the website HTML to verify this), and games which have not yet been played have the text \"Upcoming\" rather than a score. The following piece of code extracts the game URLs as a list that we can process further.\n",
    "\n",
    "<div class=\"alert alert-block alert-info\">\n",
    "<b>Note:</b> if we wanted to extract only the information for certain competitions (such as the Championship), we can add this a form of filter. The code which has been commented out will help with that.</div>"
   ]
  },
  {
   "cell_type": "code",
   "execution_count": 3,
   "id": "b894b61d-c6bb-4d40-88aa-2eb1cc45c3bd",
   "metadata": {},
   "outputs": [],
   "source": [
    "tables = results_soup.find_all('table')\n",
    "#comp_string = 'Championship 2024-25'\n",
    "upcoming_string = 'Upcoming'\n",
    "url_soup = []\n",
    "for rows in tables[0].find_all('tr'):\n",
    "    cells = rows.find_all('td')\n",
    "#    if comp_string in cells[2]:\n",
    "    for a in rows.find_all('a', href=True):\n",
    "        if a.contents[0] != upcoming_string:\n",
    "            url_soup.append(a['href'])"
   ]
  },
  {
   "cell_type": "markdown",
   "id": "60f93b45-01a9-4685-bd34-435a9da76202",
   "metadata": {},
   "source": [
    "Let's check how many game URLs we have extracted."
   ]
  },
  {
   "cell_type": "code",
   "execution_count": 4,
   "id": "20ca524e-36f3-44b0-be4f-4f44984eb792",
   "metadata": {},
   "outputs": [
    {
     "data": {
      "text/plain": [
       "17"
      ]
     },
     "execution_count": 4,
     "metadata": {},
     "output_type": "execute_result"
    }
   ],
   "source": [
    "len(url_soup)"
   ]
  },
  {
   "cell_type": "markdown",
   "id": "f524f392-90e5-45b9-8af5-7f33cca1e857",
   "metadata": {},
   "source": [
    "Rather than taking all 17 games, we can take just the first 10 by taking a slice of the list (this reduces the time taken to run all of the code, if you want information on more games then this can be easily modified. We can also take a peek at what the list of URLs looks like."
   ]
  },
  {
   "cell_type": "markdown",
   "id": "f7b5334c-c961-4906-87a0-abea13fb6a4f",
   "metadata": {},
   "source": [
    "We can use the SLB URLs gethered above to directly access the FIBA live stats. This next cell makes a list of the live stats URLs for all of the games identified above."
   ]
  },
  {
   "cell_type": "code",
   "execution_count": 5,
   "id": "4dae930c-2cea-45b6-ad45-32a705f0ee31",
   "metadata": {},
   "outputs": [
    {
     "data": {
      "text/plain": [
       "['http://www.fibalivestats.com/webcast/wbbl/2522426/',\n",
       " 'http://www.fibalivestats.com/webcast/wbbl/2522423/',\n",
       " 'http://www.fibalivestats.com/webcast/wbbl/2522421/',\n",
       " 'http://www.fibalivestats.com/webcast/wbbl/2522427/',\n",
       " 'http://www.fibalivestats.com/webcast/wbbl/2522424/',\n",
       " 'http://www.fibalivestats.com/webcast/wbbl/2522419/',\n",
       " 'http://www.fibalivestats.com/webcast/wbbl/2522422/',\n",
       " 'http://www.fibalivestats.com/webcast/wbbl/2522417/',\n",
       " 'http://www.fibalivestats.com/webcast/wbbl/2538198/',\n",
       " 'http://www.fibalivestats.com/webcast/wbbl/2522428/']"
      ]
     },
     "execution_count": 5,
     "metadata": {},
     "output_type": "execute_result"
    }
   ],
   "source": [
    "url_soup = url_soup[:10]\n",
    "url_soup"
   ]
  },
  {
   "cell_type": "markdown",
   "id": "31cc3383-8ae8-40f3-8674-543d0d6f2af9",
   "metadata": {},
   "source": [
    "We can now assemble the URL required to access the box scores and check that the website exists (more technically, than the URL resolves)."
   ]
  },
  {
   "cell_type": "code",
   "execution_count": 7,
   "id": "32fe4ac1-a55d-4359-8aed-0122462b0457",
   "metadata": {},
   "outputs": [],
   "source": [
    "game_id = []\n",
    "for url in url_soup:\n",
    "    game_id.append(url.split('/')[5])\n",
    "\n",
    "league = 'WBBL'\n",
    "baseurl = 'https://www.fibalivestats.com/u/{}'.format(league)\n",
    "games = []\n",
    "\n",
    "for g_id in game_id:\n",
    "    url = \"{}/{}/\".format(baseurl, g_id)\n",
    "    resp = requests.get(url)\n",
    "    if resp.status_code == 200:\n",
    "        #print(url)\n",
    "        games.append(url)\n",
    "    else:\n",
    "        print(\"Couldn't resolve URL:\", url)"
   ]
  },
  {
   "cell_type": "markdown",
   "id": "f4a5b9d2-51e3-4307-8273-1a6f1143026e",
   "metadata": {},
   "source": [
    "The URLs we will access can be inspected."
   ]
  },
  {
   "cell_type": "code",
   "execution_count": 8,
   "id": "a984186b-35f9-43e3-8ba0-d52d5bfcfe63",
   "metadata": {},
   "outputs": [
    {
     "data": {
      "text/plain": [
       "['https://www.fibalivestats.com/u/WBBL/2522426/',\n",
       " 'https://www.fibalivestats.com/u/WBBL/2522423/',\n",
       " 'https://www.fibalivestats.com/u/WBBL/2522421/',\n",
       " 'https://www.fibalivestats.com/u/WBBL/2522427/',\n",
       " 'https://www.fibalivestats.com/u/WBBL/2522424/',\n",
       " 'https://www.fibalivestats.com/u/WBBL/2522419/',\n",
       " 'https://www.fibalivestats.com/u/WBBL/2522422/',\n",
       " 'https://www.fibalivestats.com/u/WBBL/2522417/',\n",
       " 'https://www.fibalivestats.com/u/WBBL/2538198/',\n",
       " 'https://www.fibalivestats.com/u/WBBL/2522428/']"
      ]
     },
     "execution_count": 8,
     "metadata": {},
     "output_type": "execute_result"
    }
   ],
   "source": [
    "games"
   ]
  },
  {
   "cell_type": "markdown",
   "id": "3d23a97d-9ea3-4bd3-9823-d98038265134",
   "metadata": {},
   "source": [
    "### Exercise\n",
    "\n",
    "After inspecting the livestats page in a web browser to help you decide what to do, modify the code so that you only obtain the URLs for the first four games played in the 2024-25 version of the Betty Codona Trophy."
   ]
  },
  {
   "cell_type": "markdown",
   "id": "8630da77-9986-4c6b-9892-046ac66c0550",
   "metadata": {},
   "source": [
    "## Scraping the box score data\n",
    "\n",
    "Now that we have the URLs, we need to scrape the box score for each one of those. As we are essentially repeating the same exercise multiple times, we will define some functions that we will repeat for each URL.\n",
    "\n",
    "The first function is one that takes a URL soup object as input, creates some internal lists of data, then returns the data as a dataframe. To make creating filenames for CSV files easier, the same function also returns the names of the teams that played and the date the game was played.\n",
    "\n",
    "As we are just defining the function, running the next cell of code doesn't actually do anything at this point. Note, that this function should work for any FIBA livestats page, not just Women's SLB \\- assuming that the page contains all of the stats we are looking for."
   ]
  },
  {
   "cell_type": "code",
   "execution_count": 9,
   "id": "db8140f3-f13d-42d2-9364-22a4372a27b5",
   "metadata": {},
   "outputs": [],
   "source": [
    "def stats_to_df(soup):\n",
    "    \"\"\"Converts the soup of FIBA livestats for a single game into a data frame. \n",
    "    The data frame, the teams playing and the date the game was played are then returned\"\"\"\n",
    "    teams=[]\n",
    "    team_divs = soup.find_all(\"div\", {\"class\": \"team-name\"})\n",
    "    for count, div in enumerate(team_divs):\n",
    "        team_span = div.find_all('span')\n",
    "        teams.append(team_span[0].get_text())\n",
    "    \n",
    "    date=soup.find_all(\"div\", {\"class\": \"og-date\"})[0].get_text()\n",
    "    date_formatted = datetime.strptime(date, '%d/%m/%Y')\n",
    "    date = date_formatted.strftime('%Y%m%d')\n",
    "\n",
    "    #Create the internal lists to hold all of the data\n",
    "    player_name=[]\n",
    "    team=[]\n",
    "    minutes=[]\n",
    "    points=[]\n",
    "    fgm=[]\n",
    "    fga=[]\n",
    "    fgper=[]\n",
    "    twopm=[]\n",
    "    twopa=[]\n",
    "    twoper=[]\n",
    "    threepm=[]\n",
    "    threepa=[]\n",
    "    threeper=[]\n",
    "    ftpm=[]\n",
    "    ftpa=[]\n",
    "    ftper=[]\n",
    "    rebo=[]\n",
    "    rebd=[]\n",
    "    rebtot=[]\n",
    "    assists=[]\n",
    "    tos=[]\n",
    "    steals=[]\n",
    "    blocks=[]\n",
    "    blocksr=[]\n",
    "    fouls=[]\n",
    "    foulson=[]\n",
    "    plusminus=[]\n",
    "\n",
    "    #Populate the lists\n",
    "    scores_tables = soup.find_all(\"table\", {\"class\": \"boxscore\"})\n",
    "    for team_count, table in enumerate(scores_tables):\n",
    "        for count, row in enumerate(table.find_all('tr', {\"class\": \"player-row\"})):\n",
    "            if count != 0:\n",
    "                player_name.append(row.find_all('a', {\"class\": \"playerpopup\"})[0].find_all('span')[0].get_text())\n",
    "                team.append(teams[team_count])\n",
    "                minutes.append(row.find_all('span', {\"id\": re.compile(\"Minutes\")})[0].get_text())\n",
    "                points.append(row.find_all('span', {\"id\": re.compile(\"Points\")})[0].get_text())\n",
    "                fgm.append(row.find_all('span', {\"id\": re.compile(\"FieldGoalsMade\")})[0].get_text())\n",
    "                fga.append(row.find_all('span', {\"id\": re.compile(\"FieldGoalsAttempted\")})[0].get_text())\n",
    "                fgper.append(row.find_all('span', {\"id\": re.compile(\"FieldGoalsPercentage\")})[0].get_text())\n",
    "                twopm.append(row.find_all('span', {\"id\": re.compile(\"TwoPointersMade\")})[0].get_text())\n",
    "                twopa.append(row.find_all('span', {\"id\": re.compile(\"TwoPointersAttempted\")})[0].get_text())\n",
    "                twoper.append(row.find_all('span', {\"id\": re.compile(\"TwoPointersPercentage\")})[0].get_text())\n",
    "                threepm.append(row.find_all('span', {\"id\": re.compile(\"ThreePointersMade\")})[0].get_text())\n",
    "                threepa.append(row.find_all('span', {\"id\": re.compile(\"ThreePointersAttempted\")})[0].get_text())\n",
    "                threeper.append(row.find_all('span', {\"id\": re.compile(\"ThreePointersPercentage\")})[0].get_text())\n",
    "                ftpm.append(row.find_all('span', {\"id\": re.compile(\"FreeThrowsMade\")})[0].get_text())\n",
    "                ftpa.append(row.find_all('span', {\"id\": re.compile(\"FreeThrowsAttempted\")})[0].get_text())\n",
    "                ftper.append(row.find_all('span', {\"id\": re.compile(\"FreeThrowsPercentage\")})[0].get_text())\n",
    "                rebo.append(row.find_all('span', {\"id\": re.compile(\"ReboundsOffensive\")})[0].get_text())\n",
    "                rebd.append(row.find_all('span', {\"id\": re.compile(\"ReboundsDefensive\")})[0].get_text())\n",
    "                rebtot.append(row.find_all('span', {\"id\": re.compile(\"ReboundsTotal\")})[0].get_text())\n",
    "                assists.append(row.find_all('span', {\"id\": re.compile(\"Assists\")})[0].get_text())\n",
    "                tos.append(row.find_all('span', {\"id\": re.compile(\"Turnovers\")})[0].get_text())\n",
    "                steals.append(row.find_all('span', {\"id\": re.compile(\"Steals\")})[0].get_text())\n",
    "                blocks.append(row.find_all('span', {\"id\": re.compile(\"Blocks\")})[0].get_text())\n",
    "                blocksr.append(row.find_all('span', {\"id\": re.compile(\"BlocksReceived\")})[0].get_text())\n",
    "                fouls.append(row.find_all('span', {\"id\": re.compile(\"FoulsPersonal\")})[0].get_text())\n",
    "                foulson.append(row.find_all('span', {\"id\": re.compile(\"FoulsOn\")})[0].get_text())\n",
    "                plusminus.append(row.find_all('span', {\"id\": re.compile(\"PlusMinusPoints\")})[0].get_text())\n",
    "\n",
    "    #Create the dataframe\n",
    "    df = pd.DataFrame(np.column_stack([player_name, team, minutes, points, fgm, fga, fgper, twopm, twopa, twoper, threepm, threepa, threeper, \n",
    "                                   ftpm, ftpa, ftper, rebo, rebd, rebtot, assists, tos, steals, blocks, blocksr, fouls, foulson, plusminus]), \n",
    "                                   columns=[\"Name\", \"Team\", \"Mins\", \"PTS\", \"FGM\", \"FGA\", \"FG%\", \"2PM\", \"2PA\", \"2P%\", \"3PM\", \"3PA\", \"3P%\", \n",
    "                                    \"FTM\", \"FTA\", \"FT%\",\"OREB\", \"DREB\", \"REB\", \"AST\", \"TO\", \"STL\", \"BLK\", \"BLKR\", \"PF\", \n",
    "                                    \"FOULON\", \"PLUSMINUS\"])\n",
    "    \n",
    "    return df, teams, date"
   ]
  },
  {
   "cell_type": "markdown",
   "id": "a6a67e2a-bd6a-4059-8aa5-eb767dd00a8c",
   "metadata": {},
   "source": [
    "This next function takes a game URL from above, adds the extra part to the URL required to access the boxscore, then uses Selenium and Chrome to scrape the page into BeautifulSoup.\n",
    "\n",
    "<div class=\"alert alert-block alert-info\">\n",
    "<b>Note:</b> I ask the web browser to wait (sleep) for 2 seconds after opening the page as sometimes it can take a while for all of the Javascript to load. It should be possible to do this with Selenium, but I have never been able to get it to work correctly with the FIBA pages.\n",
    "</div>"
   ]
  },
  {
   "cell_type": "code",
   "execution_count": 10,
   "id": "9425c834-48e5-4e1d-93b5-ac87bd494e49",
   "metadata": {},
   "outputs": [],
   "source": [
    "def fiba_url_to_soup(game):\n",
    "    \"\"\"Takes the base FIBA livestats URL, adds the extra info to request the boxscore, then returns the pagesoup\"\"\"\n",
    "    url = game+'bs.html'\n",
    "    browser = webdriver.Chrome()\n",
    "    browser.get(url)\n",
    "    time.sleep(2)\n",
    "    soup = BeautifulSoup(browser.page_source, 'html')\n",
    "    browser.close()\n",
    "\n",
    "    return soup"
   ]
  },
  {
   "cell_type": "markdown",
   "id": "12a782d7-d105-4dfd-b620-5359547d9d4f",
   "metadata": {},
   "source": [
    "We also need a function to export the dataframe as a CSV file.\n",
    "\n",
    "The filename for the CSV is automatically assembled from the team names and date data we extracted earlier. We can optionally also ask for the CSV files to be saved into a specific directory/folder."
   ]
  },
  {
   "cell_type": "code",
   "execution_count": 11,
   "id": "2780fe16-a152-4777-8287-15db8878302c",
   "metadata": {},
   "outputs": [],
   "source": [
    "def save_game_csv(df, teams, date, directory=None):\n",
    "    \"\"\"Saves the dataframe in CSV format, with the filename generated from the teams and date\n",
    "    Optionally places the file into a directory\"\"\"\n",
    "    filename = teams[0].replace(\" \", \"-\") + \"-Vs-\" + teams[1].replace(\" \", \"-\") + \"-\" + date + \".csv\"\n",
    "    if directory == None:\n",
    "        df.to_csv(filename)\n",
    "    else:\n",
    "        if not Path(directory).is_dir():\n",
    "            Path(directory).mkdir()\n",
    "        df.to_csv(Path(directory, filename))\n",
    "\n",
    "    return"
   ]
  },
  {
   "cell_type": "markdown",
   "id": "061d1157-1c22-41a5-86d5-7fa55f6d0e66",
   "metadata": {},
   "source": [
    "With the functions defined, we now need to run all three of them for each of the games we identified above. Please note that it will launch a Chrome window (and eventually close it) for every game, so it can take a while if you're asking for a lot of games to be scraped.\n",
    "\n",
    "The CSV files should be saved in a directory called \"data\"."
   ]
  },
  {
   "cell_type": "code",
   "execution_count": 12,
   "id": "b2ef14d2-4bcd-4754-abf4-eee821f7bcf2",
   "metadata": {},
   "outputs": [],
   "source": [
    "for game in games:\n",
    "    soup = fiba_url_to_soup(game)\n",
    "    df, teams, date = stats_to_df(soup)\n",
    "    save_game_csv(df, teams, date, \"data\")"
   ]
  },
  {
   "cell_type": "markdown",
   "id": "cda9a31e-ede0-43a2-a3f8-65493a4e7ebb",
   "metadata": {},
   "source": [
    "We should now have a separate CSV for each game that has been played, all in the directory called data. These CSV files can be opened in most spreadsheet software, or we can read it in to Pandas dataframes for further processing."
   ]
  }
 ],
 "metadata": {
  "kernelspec": {
   "display_name": "Python 3 (ipykernel)",
   "language": "python",
   "name": "python3"
  },
  "language_info": {
   "codemirror_mode": {
    "name": "ipython",
    "version": 3
   },
   "file_extension": ".py",
   "mimetype": "text/x-python",
   "name": "python",
   "nbconvert_exporter": "python",
   "pygments_lexer": "ipython3",
   "version": "3.12.1"
  }
 },
 "nbformat": 4,
 "nbformat_minor": 5
}
